{
  "nbformat": 4,
  "nbformat_minor": 0,
  "metadata": {
    "colab": {
      "provenance": [],
      "authorship_tag": "ABX9TyP0QXxfzMvZodZssfD/PHZY",
      "include_colab_link": true
    },
    "kernelspec": {
      "name": "python3",
      "display_name": "Python 3"
    },
    "language_info": {
      "name": "python"
    }
  },
  "cells": [
    {
      "cell_type": "markdown",
      "metadata": {
        "id": "view-in-github",
        "colab_type": "text"
      },
      "source": [
        "<a href=\"https://colab.research.google.com/github/W83w/-Courses/blob/main/%D0%97%D0%B0%D0%B4%D0%B0%D0%BD%D0%B8%D0%B5_4_3_.ipynb\" target=\"_parent\"><img src=\"https://colab.research.google.com/assets/colab-badge.svg\" alt=\"Open In Colab\"/></a>"
      ]
    },
    {
      "cell_type": "code",
      "execution_count": 4,
      "metadata": {
        "id": "di2wgxkA7MKx",
        "outputId": "58ad311f-cb6d-4986-88f6-dfb54320cc29",
        "colab": {
          "base_uri": "https://localhost:8080/"
        }
      },
      "outputs": [
        {
          "output_type": "stream",
          "name": "stdout",
          "text": [
            "транзакция успешно завершена 10 Игровые деньги 11\n",
            "lose 10  Настоящие деньги 10\n",
            "lose 9  Настоящие деньги 10\n",
            "lose 8  Настоящие деньги 10\n",
            "lose 7  Настоящие деньги 10\n",
            "lose 6  Настоящие деньги 10\n",
            "lose 5  Настоящие деньги 10\n",
            "lose 4  Настоящие деньги 10\n",
            "lose 3  Настоящие деньги 10\n",
            "lose 2  Настоящие деньги 10\n",
            "транзакция успешно завершена 10 Игровые деньги 3\n",
            "lose 2  Настоящие деньги 10\n",
            "lose 1  Настоящие деньги 10\n",
            "lose 0  Настоящие деньги 10\n",
            "транзакция успешно завершена 9 Игровые деньги 0\n",
            "lose 0  Настоящие деньги 9\n",
            "Зачем 5 0\n",
            "lose 0  Настоящие деньги 5\n",
            "Повезет в следующий раз, нет   Настоящие деньги 5 Настроение 0\n"
          ]
        }
      ],
      "source": [
        "import random\n",
        "\n",
        "Character_Mood = 100 #Настроение персонажа\n",
        "\n",
        "game_Money = 10 #Игровые деньги персонажа\n",
        "Wins = 0  #Количество побед из за которых выдают главный приз\n",
        "Wins2 = 0 #Количество побед во 2 автомате\n",
        "Real_money = 10 #Реальные деньги персонажа\n",
        "\n",
        "while Character_Mood > 0: # Персонаж играет пока настроение есть\n",
        "    Character_Mood -= 50 # Пока не выиграл главный приз персонаж настроение падает \n",
        "    while game_Money > 0: #Если денеги есть\n",
        "        for Attempts in range(15):  #Персонаж играет 15 игр в 1 автомат\n",
        "            Attempts += 1 # Игры которые хотел с играть персонаж\n",
        "            game_Money -= 1  #Что стоит 1 монетку\n",
        "            Slot_machine = random.randint(0, 5) #Шанс на победу < 5 проиграл = 5 выиграл\n",
        "            if game_Money < 0: # Если игровых денег нет, всегда можно обменять их на игровые\n",
        "                if Real_money >= 1: # Настоящии на игровыи\n",
        "                    Real_money -= 1 #настоящая\n",
        "                    game_Money += 1 #+игровая\n",
        "                    print(\"транзакция успешно завершена\", Real_money, \\\n",
        "                          \"Игровые деньги\", game_Money) #Статистика для отчета\n",
        "                else: # Если денег нет то все\n",
        "                    break\n",
        "            if Slot_machine == 2: #Если вдруг победил\n",
        "                game_Money += 2 #Награда\n",
        "                Wins += 1 # + Победа\n",
        "                print(\"транзакция успешно завершена\", Real_money, \\\n",
        "                      \"Игровые деньги\", game_Money) # Статистика\n",
        "            else:\n",
        "                print(\"lose\", game_Money, ' Настоящие деньги', Real_money )  # Статистика\n",
        "        for Attempts2 in range(5):  # Персонаж играет 5 игр\n",
        "            Attempts2 += 1 # количество игр\n",
        "            game_Money -= 3  # Что стоит 3 монетки\n",
        "            Slot_machine = random.randint(0, 5)  # Шанс на победу Очень хороший < 5 проиграл = 5 выиграл\n",
        "            if game_Money < 0:  # Если игровых денег нет, всегда можно обменять их на игровые\n",
        "                if Real_money >= 4: # Обмен\n",
        "                    Real_money -= 4\n",
        "                    game_Money += 3\n",
        "                    print(\"Зачем\", Real_money, game_Money)\n",
        "                else:\n",
        "                    break\n",
        "                if Slot_machine == 5:  # Если вдруг победил\n",
        "                    game_Money += 20  # Награда\n",
        "                    Wins2 += 1\n",
        "                    print(\"Win\", game_Money, ' Настоящие деньги', Real_money)  # Статистика\n",
        "                else:\n",
        "                    print(\"lose\", game_Money, ' Настоящие деньги', Real_money)  # Статистика\n",
        "            break\n",
        "        break\n",
        "\n",
        "\n",
        "if Wins > 7 or Wins2 > 5: # Много побед то Супер приз\n",
        "    Character_Mood += 100\n",
        "    Real_money += 10000000000\n",
        "    print(\"Вы богаты, но почему?\", \"  Настоящие деньги\",Real_money, \\\n",
        "           \"Настроение\", Character_Mood)\n",
        "else:\n",
        "    if game_Money < 0:\n",
        "        print('Это конец', Real_money, \"Настроение\", Character_Mood)\n",
        "    else:\n",
        "        print(\"Повезет в следующий раз, нет\", '  Настоящие деньги', \\\n",
        "              Real_money, \"Настроение\", Character_Mood)"
      ]
    }
  ]
}