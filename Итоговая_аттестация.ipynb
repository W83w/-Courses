{
  "nbformat": 4,
  "nbformat_minor": 0,
  "metadata": {
    "colab": {
      "provenance": [],
      "mount_file_id": "1edKccpQ3VqtCYhn0p-agtUK_WD9kZRA8",
      "authorship_tag": "ABX9TyP+/+AStOAWGDo2GoM2o16I",
      "include_colab_link": true
    },
    "kernelspec": {
      "name": "python3",
      "display_name": "Python 3"
    },
    "language_info": {
      "name": "python"
    }
  },
  "cells": [
    {
      "cell_type": "markdown",
      "metadata": {
        "id": "view-in-github",
        "colab_type": "text"
      },
      "source": [
        "<a href=\"https://colab.research.google.com/github/W83w/-Courses/blob/main/%D0%98%D1%82%D0%BE%D0%B3%D0%BE%D0%B2%D0%B0%D1%8F_%D0%B0%D1%82%D1%82%D0%B5%D1%81%D1%82%D0%B0%D1%86%D0%B8%D1%8F.ipynb\" target=\"_parent\"><img src=\"https://colab.research.google.com/assets/colab-badge.svg\" alt=\"Open In Colab\"/></a>"
      ]
    },
    {
      "cell_type": "markdown",
      "source": [
        "Конечная цель ИИ: предсказание цены сбыта ноутбуков и изменение цены с течением времени. Востребована для новых компаний, расчета самой финальной цены и изменение цены со временем. Предсказанные цены могут координально изменить планы компании. Решено было создать три модели. Две для расчета цены из за их не точности, третья же для расчета цены за которую продают характеристики ноутбука. Это также поможет для подсчета возможной выручки.\n",
        "\n"
      ],
      "metadata": {
        "id": "olD6J-vQqpus"
      }
    },
    {
      "cell_type": "markdown",
      "source": [
        "Импортирую пандас"
      ],
      "metadata": {
        "id": "l37V_ZuO5cPB"
      }
    },
    {
      "cell_type": "code",
      "execution_count": null,
      "metadata": {
        "id": "TLJhRPebctE1"
      },
      "outputs": [],
      "source": [
        "import pandas as pd"
      ]
    },
    {
      "cell_type": "markdown",
      "source": [
        "Импортирую numpy"
      ],
      "metadata": {
        "id": "pFYZ_vHo5py8"
      }
    },
    {
      "cell_type": "code",
      "source": [
        "import numpy as np"
      ],
      "metadata": {
        "id": "76llxtbEc6k2"
      },
      "execution_count": null,
      "outputs": []
    },
    {
      "cell_type": "markdown",
      "source": [
        "Загружаю Датасет. Для начала, я возвращаю съехавшие названия."
      ],
      "metadata": {
        "id": "kVMnu3j1trIq"
      }
    },
    {
      "cell_type": "code",
      "source": [
        "df = pd.read_csv('/content/drive/MyDrive/Colab Notebooks/Cleaned_Laptop_data.csv', header=None, skiprows=1)\n",
        "df.columns = ['brand','model','processor_brand','processor_name','processor_gnrtn',\n",
        "              'ram_gb','ram_type','ssd','hdd','os','os_bit','graphic_card_gb',\n",
        "              'weight','display_size','warranty','Touchscreen','msoffice',\n",
        "              'latest_price','old_price','discount','star_rating',\n",
        "              'ratings','reviews']\n",
        "df\n",
        "df.head()\n"
      ],
      "metadata": {
        "colab": {
          "base_uri": "https://localhost:8080/",
          "height": 386
        },
        "id": "8xs4cXdRdPJN",
        "outputId": "2ed837a5-6524-4839-8841-ac1bd89b8186"
      },
      "execution_count": null,
      "outputs": [
        {
          "output_type": "execute_result",
          "data": {
            "text/plain": [
              "    brand    model processor_brand     processor_name processor_gnrtn  \\\n",
              "0  Lenovo  A6-9225             AMD  A6-9225 Processor            10th   \n",
              "1  Lenovo  Ideapad             AMD           APU Dual            10th   \n",
              "2   Avita     PURA             AMD           APU Dual            10th   \n",
              "3   Avita     PURA             AMD           APU Dual            10th   \n",
              "4   Avita     PURA             AMD           APU Dual            10th   \n",
              "\n",
              "    ram_gb ram_type     ssd      hdd       os  ... display_size  warranty  \\\n",
              "0  4 GB GB     DDR4    0 GB  1024 GB  Windows  ...      Missing         0   \n",
              "1  4 GB GB     DDR4    0 GB   512 GB  Windows  ...      Missing         0   \n",
              "2  4 GB GB     DDR4  128 GB     0 GB  Windows  ...      Missing         0   \n",
              "3  4 GB GB     DDR4  128 GB     0 GB  Windows  ...      Missing         0   \n",
              "4  4 GB GB     DDR4  256 GB     0 GB  Windows  ...      Missing         0   \n",
              "\n",
              "  Touchscreen msoffice  latest_price old_price discount  star_rating  ratings  \\\n",
              "0          No       No         24990     32790       23          3.7       63   \n",
              "1          No       No         19590     21325        8          3.6     1894   \n",
              "2          No       No         19990     27990       28          3.7     1153   \n",
              "3          No       No         21490     27990       23          3.7     1153   \n",
              "4          No       No         24990     33490       25          3.7     1657   \n",
              "\n",
              "   reviews  \n",
              "0       12  \n",
              "1      256  \n",
              "2      159  \n",
              "3      159  \n",
              "4      234  \n",
              "\n",
              "[5 rows x 23 columns]"
            ],
            "text/html": [
              "\n",
              "  <div id=\"df-f8931f5c-7188-4267-99de-5fd883e04b50\">\n",
              "    <div class=\"colab-df-container\">\n",
              "      <div>\n",
              "<style scoped>\n",
              "    .dataframe tbody tr th:only-of-type {\n",
              "        vertical-align: middle;\n",
              "    }\n",
              "\n",
              "    .dataframe tbody tr th {\n",
              "        vertical-align: top;\n",
              "    }\n",
              "\n",
              "    .dataframe thead th {\n",
              "        text-align: right;\n",
              "    }\n",
              "</style>\n",
              "<table border=\"1\" class=\"dataframe\">\n",
              "  <thead>\n",
              "    <tr style=\"text-align: right;\">\n",
              "      <th></th>\n",
              "      <th>brand</th>\n",
              "      <th>model</th>\n",
              "      <th>processor_brand</th>\n",
              "      <th>processor_name</th>\n",
              "      <th>processor_gnrtn</th>\n",
              "      <th>ram_gb</th>\n",
              "      <th>ram_type</th>\n",
              "      <th>ssd</th>\n",
              "      <th>hdd</th>\n",
              "      <th>os</th>\n",
              "      <th>...</th>\n",
              "      <th>display_size</th>\n",
              "      <th>warranty</th>\n",
              "      <th>Touchscreen</th>\n",
              "      <th>msoffice</th>\n",
              "      <th>latest_price</th>\n",
              "      <th>old_price</th>\n",
              "      <th>discount</th>\n",
              "      <th>star_rating</th>\n",
              "      <th>ratings</th>\n",
              "      <th>reviews</th>\n",
              "    </tr>\n",
              "  </thead>\n",
              "  <tbody>\n",
              "    <tr>\n",
              "      <th>0</th>\n",
              "      <td>Lenovo</td>\n",
              "      <td>A6-9225</td>\n",
              "      <td>AMD</td>\n",
              "      <td>A6-9225 Processor</td>\n",
              "      <td>10th</td>\n",
              "      <td>4 GB GB</td>\n",
              "      <td>DDR4</td>\n",
              "      <td>0 GB</td>\n",
              "      <td>1024 GB</td>\n",
              "      <td>Windows</td>\n",
              "      <td>...</td>\n",
              "      <td>Missing</td>\n",
              "      <td>0</td>\n",
              "      <td>No</td>\n",
              "      <td>No</td>\n",
              "      <td>24990</td>\n",
              "      <td>32790</td>\n",
              "      <td>23</td>\n",
              "      <td>3.7</td>\n",
              "      <td>63</td>\n",
              "      <td>12</td>\n",
              "    </tr>\n",
              "    <tr>\n",
              "      <th>1</th>\n",
              "      <td>Lenovo</td>\n",
              "      <td>Ideapad</td>\n",
              "      <td>AMD</td>\n",
              "      <td>APU Dual</td>\n",
              "      <td>10th</td>\n",
              "      <td>4 GB GB</td>\n",
              "      <td>DDR4</td>\n",
              "      <td>0 GB</td>\n",
              "      <td>512 GB</td>\n",
              "      <td>Windows</td>\n",
              "      <td>...</td>\n",
              "      <td>Missing</td>\n",
              "      <td>0</td>\n",
              "      <td>No</td>\n",
              "      <td>No</td>\n",
              "      <td>19590</td>\n",
              "      <td>21325</td>\n",
              "      <td>8</td>\n",
              "      <td>3.6</td>\n",
              "      <td>1894</td>\n",
              "      <td>256</td>\n",
              "    </tr>\n",
              "    <tr>\n",
              "      <th>2</th>\n",
              "      <td>Avita</td>\n",
              "      <td>PURA</td>\n",
              "      <td>AMD</td>\n",
              "      <td>APU Dual</td>\n",
              "      <td>10th</td>\n",
              "      <td>4 GB GB</td>\n",
              "      <td>DDR4</td>\n",
              "      <td>128 GB</td>\n",
              "      <td>0 GB</td>\n",
              "      <td>Windows</td>\n",
              "      <td>...</td>\n",
              "      <td>Missing</td>\n",
              "      <td>0</td>\n",
              "      <td>No</td>\n",
              "      <td>No</td>\n",
              "      <td>19990</td>\n",
              "      <td>27990</td>\n",
              "      <td>28</td>\n",
              "      <td>3.7</td>\n",
              "      <td>1153</td>\n",
              "      <td>159</td>\n",
              "    </tr>\n",
              "    <tr>\n",
              "      <th>3</th>\n",
              "      <td>Avita</td>\n",
              "      <td>PURA</td>\n",
              "      <td>AMD</td>\n",
              "      <td>APU Dual</td>\n",
              "      <td>10th</td>\n",
              "      <td>4 GB GB</td>\n",
              "      <td>DDR4</td>\n",
              "      <td>128 GB</td>\n",
              "      <td>0 GB</td>\n",
              "      <td>Windows</td>\n",
              "      <td>...</td>\n",
              "      <td>Missing</td>\n",
              "      <td>0</td>\n",
              "      <td>No</td>\n",
              "      <td>No</td>\n",
              "      <td>21490</td>\n",
              "      <td>27990</td>\n",
              "      <td>23</td>\n",
              "      <td>3.7</td>\n",
              "      <td>1153</td>\n",
              "      <td>159</td>\n",
              "    </tr>\n",
              "    <tr>\n",
              "      <th>4</th>\n",
              "      <td>Avita</td>\n",
              "      <td>PURA</td>\n",
              "      <td>AMD</td>\n",
              "      <td>APU Dual</td>\n",
              "      <td>10th</td>\n",
              "      <td>4 GB GB</td>\n",
              "      <td>DDR4</td>\n",
              "      <td>256 GB</td>\n",
              "      <td>0 GB</td>\n",
              "      <td>Windows</td>\n",
              "      <td>...</td>\n",
              "      <td>Missing</td>\n",
              "      <td>0</td>\n",
              "      <td>No</td>\n",
              "      <td>No</td>\n",
              "      <td>24990</td>\n",
              "      <td>33490</td>\n",
              "      <td>25</td>\n",
              "      <td>3.7</td>\n",
              "      <td>1657</td>\n",
              "      <td>234</td>\n",
              "    </tr>\n",
              "  </tbody>\n",
              "</table>\n",
              "<p>5 rows × 23 columns</p>\n",
              "</div>\n",
              "      <button class=\"colab-df-convert\" onclick=\"convertToInteractive('df-f8931f5c-7188-4267-99de-5fd883e04b50')\"\n",
              "              title=\"Convert this dataframe to an interactive table.\"\n",
              "              style=\"display:none;\">\n",
              "        \n",
              "  <svg xmlns=\"http://www.w3.org/2000/svg\" height=\"24px\"viewBox=\"0 0 24 24\"\n",
              "       width=\"24px\">\n",
              "    <path d=\"M0 0h24v24H0V0z\" fill=\"none\"/>\n",
              "    <path d=\"M18.56 5.44l.94 2.06.94-2.06 2.06-.94-2.06-.94-.94-2.06-.94 2.06-2.06.94zm-11 1L8.5 8.5l.94-2.06 2.06-.94-2.06-.94L8.5 2.5l-.94 2.06-2.06.94zm10 10l.94 2.06.94-2.06 2.06-.94-2.06-.94-.94-2.06-.94 2.06-2.06.94z\"/><path d=\"M17.41 7.96l-1.37-1.37c-.4-.4-.92-.59-1.43-.59-.52 0-1.04.2-1.43.59L10.3 9.45l-7.72 7.72c-.78.78-.78 2.05 0 2.83L4 21.41c.39.39.9.59 1.41.59.51 0 1.02-.2 1.41-.59l7.78-7.78 2.81-2.81c.8-.78.8-2.07 0-2.86zM5.41 20L4 18.59l7.72-7.72 1.47 1.35L5.41 20z\"/>\n",
              "  </svg>\n",
              "      </button>\n",
              "      \n",
              "  <style>\n",
              "    .colab-df-container {\n",
              "      display:flex;\n",
              "      flex-wrap:wrap;\n",
              "      gap: 12px;\n",
              "    }\n",
              "\n",
              "    .colab-df-convert {\n",
              "      background-color: #E8F0FE;\n",
              "      border: none;\n",
              "      border-radius: 50%;\n",
              "      cursor: pointer;\n",
              "      display: none;\n",
              "      fill: #1967D2;\n",
              "      height: 32px;\n",
              "      padding: 0 0 0 0;\n",
              "      width: 32px;\n",
              "    }\n",
              "\n",
              "    .colab-df-convert:hover {\n",
              "      background-color: #E2EBFA;\n",
              "      box-shadow: 0px 1px 2px rgba(60, 64, 67, 0.3), 0px 1px 3px 1px rgba(60, 64, 67, 0.15);\n",
              "      fill: #174EA6;\n",
              "    }\n",
              "\n",
              "    [theme=dark] .colab-df-convert {\n",
              "      background-color: #3B4455;\n",
              "      fill: #D2E3FC;\n",
              "    }\n",
              "\n",
              "    [theme=dark] .colab-df-convert:hover {\n",
              "      background-color: #434B5C;\n",
              "      box-shadow: 0px 1px 3px 1px rgba(0, 0, 0, 0.15);\n",
              "      filter: drop-shadow(0px 1px 2px rgba(0, 0, 0, 0.3));\n",
              "      fill: #FFFFFF;\n",
              "    }\n",
              "  </style>\n",
              "\n",
              "      <script>\n",
              "        const buttonEl =\n",
              "          document.querySelector('#df-f8931f5c-7188-4267-99de-5fd883e04b50 button.colab-df-convert');\n",
              "        buttonEl.style.display =\n",
              "          google.colab.kernel.accessAllowed ? 'block' : 'none';\n",
              "\n",
              "        async function convertToInteractive(key) {\n",
              "          const element = document.querySelector('#df-f8931f5c-7188-4267-99de-5fd883e04b50');\n",
              "          const dataTable =\n",
              "            await google.colab.kernel.invokeFunction('convertToInteractive',\n",
              "                                                     [key], {});\n",
              "          if (!dataTable) return;\n",
              "\n",
              "          const docLinkHtml = 'Like what you see? Visit the ' +\n",
              "            '<a target=\"_blank\" href=https://colab.research.google.com/notebooks/data_table.ipynb>data table notebook</a>'\n",
              "            + ' to learn more about interactive tables.';\n",
              "          element.innerHTML = '';\n",
              "          dataTable['output_type'] = 'display_data';\n",
              "          await google.colab.output.renderOutput(dataTable, element);\n",
              "          const docLink = document.createElement('div');\n",
              "          docLink.innerHTML = docLinkHtml;\n",
              "          element.appendChild(docLink);\n",
              "        }\n",
              "      </script>\n",
              "    </div>\n",
              "  </div>\n",
              "  "
            ]
          },
          "metadata": {},
          "execution_count": 3
        }
      ]
    },
    {
      "cell_type": "markdown",
      "source": [
        "Устанавливаю tslearn и импоритрую TimeSeriesKMeans и to_time_series_dataset"
      ],
      "metadata": {
        "id": "evI9BjT556qx"
      }
    },
    {
      "cell_type": "code",
      "source": [
        "!pip install tslearn\n",
        "from tslearn.clustering import TimeSeriesKMeans\n",
        "from tslearn.utils import to_time_series_dataset"
      ],
      "metadata": {
        "colab": {
          "base_uri": "https://localhost:8080/"
        },
        "id": "HNfJMTpVtXCA",
        "outputId": "71bd3232-1fc8-4bf3-d329-92fcd8c83992"
      },
      "execution_count": null,
      "outputs": [
        {
          "output_type": "stream",
          "name": "stdout",
          "text": [
            "Looking in indexes: https://pypi.org/simple, https://us-python.pkg.dev/colab-wheels/public/simple/\n",
            "Collecting tslearn\n",
            "  Downloading tslearn-0.5.2-cp38-cp38-manylinux_2_5_x86_64.manylinux1_x86_64.manylinux_2_12_x86_64.manylinux2010_x86_64.whl (875 kB)\n",
            "\u001b[2K     \u001b[90m━━━━━━━━━━━━━━━━━━━━━━━━━━━━━━━━━━━━━━\u001b[0m \u001b[32m875.8/875.8 KB\u001b[0m \u001b[31m15.4 MB/s\u001b[0m eta \u001b[36m0:00:00\u001b[0m\n",
            "\u001b[?25hRequirement already satisfied: numpy in /usr/local/lib/python3.8/dist-packages (from tslearn) (1.21.6)\n",
            "Requirement already satisfied: joblib in /usr/local/lib/python3.8/dist-packages (from tslearn) (1.2.0)\n",
            "Requirement already satisfied: scipy in /usr/local/lib/python3.8/dist-packages (from tslearn) (1.7.3)\n",
            "Requirement already satisfied: scikit-learn in /usr/local/lib/python3.8/dist-packages (from tslearn) (1.0.2)\n",
            "Requirement already satisfied: numba in /usr/local/lib/python3.8/dist-packages (from tslearn) (0.56.4)\n",
            "Requirement already satisfied: Cython in /usr/local/lib/python3.8/dist-packages (from tslearn) (0.29.32)\n",
            "Requirement already satisfied: setuptools in /usr/local/lib/python3.8/dist-packages (from numba->tslearn) (57.4.0)\n",
            "Requirement already satisfied: llvmlite<0.40,>=0.39.0dev0 in /usr/local/lib/python3.8/dist-packages (from numba->tslearn) (0.39.1)\n",
            "Requirement already satisfied: importlib-metadata in /usr/local/lib/python3.8/dist-packages (from numba->tslearn) (6.0.0)\n",
            "Requirement already satisfied: threadpoolctl>=2.0.0 in /usr/local/lib/python3.8/dist-packages (from scikit-learn->tslearn) (3.1.0)\n",
            "Requirement already satisfied: zipp>=0.5 in /usr/local/lib/python3.8/dist-packages (from importlib-metadata->numba->tslearn) (3.11.0)\n",
            "Installing collected packages: tslearn\n",
            "Successfully installed tslearn-0.5.2\n"
          ]
        }
      ]
    },
    {
      "cell_type": "markdown",
      "source": [
        "Вывожу бренды процессоров и первые 3 строки, что бы все проверить."
      ],
      "metadata": {
        "id": "iQ4oqGn_6Ytt"
      }
    },
    {
      "cell_type": "code",
      "source": [
        "processor_brand_num = list(set(df['processor_brand']))\n",
        "print(processor_brand_num)\n",
        "df.head(3)\n"
      ],
      "metadata": {
        "colab": {
          "base_uri": "https://localhost:8080/",
          "height": 306
        },
        "id": "0rE3NBQess49",
        "outputId": "af880c38-b7fd-4500-b58d-29f5264d42e0"
      },
      "execution_count": null,
      "outputs": [
        {
          "output_type": "stream",
          "name": "stdout",
          "text": [
            "['Intel', 'M1', 'AMD', 'Qualcomm', 'MediaTek']\n"
          ]
        },
        {
          "output_type": "execute_result",
          "data": {
            "text/plain": [
              "    brand    model processor_brand     processor_name processor_gnrtn  \\\n",
              "0  Lenovo  A6-9225             AMD  A6-9225 Processor            10th   \n",
              "1  Lenovo  Ideapad             AMD           APU Dual            10th   \n",
              "2   Avita     PURA             AMD           APU Dual            10th   \n",
              "\n",
              "    ram_gb ram_type     ssd      hdd       os  ... display_size  warranty  \\\n",
              "0  4 GB GB     DDR4    0 GB  1024 GB  Windows  ...      Missing         0   \n",
              "1  4 GB GB     DDR4    0 GB   512 GB  Windows  ...      Missing         0   \n",
              "2  4 GB GB     DDR4  128 GB     0 GB  Windows  ...      Missing         0   \n",
              "\n",
              "  Touchscreen msoffice  latest_price old_price discount  star_rating  ratings  \\\n",
              "0          No       No         24990     32790       23          3.7       63   \n",
              "1          No       No         19590     21325        8          3.6     1894   \n",
              "2          No       No         19990     27990       28          3.7     1153   \n",
              "\n",
              "   reviews  \n",
              "0       12  \n",
              "1      256  \n",
              "2      159  \n",
              "\n",
              "[3 rows x 23 columns]"
            ],
            "text/html": [
              "\n",
              "  <div id=\"df-cba47241-ed9b-4e40-90e0-5293fa8a9e71\">\n",
              "    <div class=\"colab-df-container\">\n",
              "      <div>\n",
              "<style scoped>\n",
              "    .dataframe tbody tr th:only-of-type {\n",
              "        vertical-align: middle;\n",
              "    }\n",
              "\n",
              "    .dataframe tbody tr th {\n",
              "        vertical-align: top;\n",
              "    }\n",
              "\n",
              "    .dataframe thead th {\n",
              "        text-align: right;\n",
              "    }\n",
              "</style>\n",
              "<table border=\"1\" class=\"dataframe\">\n",
              "  <thead>\n",
              "    <tr style=\"text-align: right;\">\n",
              "      <th></th>\n",
              "      <th>brand</th>\n",
              "      <th>model</th>\n",
              "      <th>processor_brand</th>\n",
              "      <th>processor_name</th>\n",
              "      <th>processor_gnrtn</th>\n",
              "      <th>ram_gb</th>\n",
              "      <th>ram_type</th>\n",
              "      <th>ssd</th>\n",
              "      <th>hdd</th>\n",
              "      <th>os</th>\n",
              "      <th>...</th>\n",
              "      <th>display_size</th>\n",
              "      <th>warranty</th>\n",
              "      <th>Touchscreen</th>\n",
              "      <th>msoffice</th>\n",
              "      <th>latest_price</th>\n",
              "      <th>old_price</th>\n",
              "      <th>discount</th>\n",
              "      <th>star_rating</th>\n",
              "      <th>ratings</th>\n",
              "      <th>reviews</th>\n",
              "    </tr>\n",
              "  </thead>\n",
              "  <tbody>\n",
              "    <tr>\n",
              "      <th>0</th>\n",
              "      <td>Lenovo</td>\n",
              "      <td>A6-9225</td>\n",
              "      <td>AMD</td>\n",
              "      <td>A6-9225 Processor</td>\n",
              "      <td>10th</td>\n",
              "      <td>4 GB GB</td>\n",
              "      <td>DDR4</td>\n",
              "      <td>0 GB</td>\n",
              "      <td>1024 GB</td>\n",
              "      <td>Windows</td>\n",
              "      <td>...</td>\n",
              "      <td>Missing</td>\n",
              "      <td>0</td>\n",
              "      <td>No</td>\n",
              "      <td>No</td>\n",
              "      <td>24990</td>\n",
              "      <td>32790</td>\n",
              "      <td>23</td>\n",
              "      <td>3.7</td>\n",
              "      <td>63</td>\n",
              "      <td>12</td>\n",
              "    </tr>\n",
              "    <tr>\n",
              "      <th>1</th>\n",
              "      <td>Lenovo</td>\n",
              "      <td>Ideapad</td>\n",
              "      <td>AMD</td>\n",
              "      <td>APU Dual</td>\n",
              "      <td>10th</td>\n",
              "      <td>4 GB GB</td>\n",
              "      <td>DDR4</td>\n",
              "      <td>0 GB</td>\n",
              "      <td>512 GB</td>\n",
              "      <td>Windows</td>\n",
              "      <td>...</td>\n",
              "      <td>Missing</td>\n",
              "      <td>0</td>\n",
              "      <td>No</td>\n",
              "      <td>No</td>\n",
              "      <td>19590</td>\n",
              "      <td>21325</td>\n",
              "      <td>8</td>\n",
              "      <td>3.6</td>\n",
              "      <td>1894</td>\n",
              "      <td>256</td>\n",
              "    </tr>\n",
              "    <tr>\n",
              "      <th>2</th>\n",
              "      <td>Avita</td>\n",
              "      <td>PURA</td>\n",
              "      <td>AMD</td>\n",
              "      <td>APU Dual</td>\n",
              "      <td>10th</td>\n",
              "      <td>4 GB GB</td>\n",
              "      <td>DDR4</td>\n",
              "      <td>128 GB</td>\n",
              "      <td>0 GB</td>\n",
              "      <td>Windows</td>\n",
              "      <td>...</td>\n",
              "      <td>Missing</td>\n",
              "      <td>0</td>\n",
              "      <td>No</td>\n",
              "      <td>No</td>\n",
              "      <td>19990</td>\n",
              "      <td>27990</td>\n",
              "      <td>28</td>\n",
              "      <td>3.7</td>\n",
              "      <td>1153</td>\n",
              "      <td>159</td>\n",
              "    </tr>\n",
              "  </tbody>\n",
              "</table>\n",
              "<p>3 rows × 23 columns</p>\n",
              "</div>\n",
              "      <button class=\"colab-df-convert\" onclick=\"convertToInteractive('df-cba47241-ed9b-4e40-90e0-5293fa8a9e71')\"\n",
              "              title=\"Convert this dataframe to an interactive table.\"\n",
              "              style=\"display:none;\">\n",
              "        \n",
              "  <svg xmlns=\"http://www.w3.org/2000/svg\" height=\"24px\"viewBox=\"0 0 24 24\"\n",
              "       width=\"24px\">\n",
              "    <path d=\"M0 0h24v24H0V0z\" fill=\"none\"/>\n",
              "    <path d=\"M18.56 5.44l.94 2.06.94-2.06 2.06-.94-2.06-.94-.94-2.06-.94 2.06-2.06.94zm-11 1L8.5 8.5l.94-2.06 2.06-.94-2.06-.94L8.5 2.5l-.94 2.06-2.06.94zm10 10l.94 2.06.94-2.06 2.06-.94-2.06-.94-.94-2.06-.94 2.06-2.06.94z\"/><path d=\"M17.41 7.96l-1.37-1.37c-.4-.4-.92-.59-1.43-.59-.52 0-1.04.2-1.43.59L10.3 9.45l-7.72 7.72c-.78.78-.78 2.05 0 2.83L4 21.41c.39.39.9.59 1.41.59.51 0 1.02-.2 1.41-.59l7.78-7.78 2.81-2.81c.8-.78.8-2.07 0-2.86zM5.41 20L4 18.59l7.72-7.72 1.47 1.35L5.41 20z\"/>\n",
              "  </svg>\n",
              "      </button>\n",
              "      \n",
              "  <style>\n",
              "    .colab-df-container {\n",
              "      display:flex;\n",
              "      flex-wrap:wrap;\n",
              "      gap: 12px;\n",
              "    }\n",
              "\n",
              "    .colab-df-convert {\n",
              "      background-color: #E8F0FE;\n",
              "      border: none;\n",
              "      border-radius: 50%;\n",
              "      cursor: pointer;\n",
              "      display: none;\n",
              "      fill: #1967D2;\n",
              "      height: 32px;\n",
              "      padding: 0 0 0 0;\n",
              "      width: 32px;\n",
              "    }\n",
              "\n",
              "    .colab-df-convert:hover {\n",
              "      background-color: #E2EBFA;\n",
              "      box-shadow: 0px 1px 2px rgba(60, 64, 67, 0.3), 0px 1px 3px 1px rgba(60, 64, 67, 0.15);\n",
              "      fill: #174EA6;\n",
              "    }\n",
              "\n",
              "    [theme=dark] .colab-df-convert {\n",
              "      background-color: #3B4455;\n",
              "      fill: #D2E3FC;\n",
              "    }\n",
              "\n",
              "    [theme=dark] .colab-df-convert:hover {\n",
              "      background-color: #434B5C;\n",
              "      box-shadow: 0px 1px 3px 1px rgba(0, 0, 0, 0.15);\n",
              "      filter: drop-shadow(0px 1px 2px rgba(0, 0, 0, 0.3));\n",
              "      fill: #FFFFFF;\n",
              "    }\n",
              "  </style>\n",
              "\n",
              "      <script>\n",
              "        const buttonEl =\n",
              "          document.querySelector('#df-cba47241-ed9b-4e40-90e0-5293fa8a9e71 button.colab-df-convert');\n",
              "        buttonEl.style.display =\n",
              "          google.colab.kernel.accessAllowed ? 'block' : 'none';\n",
              "\n",
              "        async function convertToInteractive(key) {\n",
              "          const element = document.querySelector('#df-cba47241-ed9b-4e40-90e0-5293fa8a9e71');\n",
              "          const dataTable =\n",
              "            await google.colab.kernel.invokeFunction('convertToInteractive',\n",
              "                                                     [key], {});\n",
              "          if (!dataTable) return;\n",
              "\n",
              "          const docLinkHtml = 'Like what you see? Visit the ' +\n",
              "            '<a target=\"_blank\" href=https://colab.research.google.com/notebooks/data_table.ipynb>data table notebook</a>'\n",
              "            + ' to learn more about interactive tables.';\n",
              "          element.innerHTML = '';\n",
              "          dataTable['output_type'] = 'display_data';\n",
              "          await google.colab.output.renderOutput(dataTable, element);\n",
              "          const docLink = document.createElement('div');\n",
              "          docLink.innerHTML = docLinkHtml;\n",
              "          element.appendChild(docLink);\n",
              "        }\n",
              "      </script>\n",
              "    </div>\n",
              "  </div>\n",
              "  "
            ]
          },
          "metadata": {},
          "execution_count": 5
        }
      ]
    },
    {
      "cell_type": "markdown",
      "source": [
        "Избавляюсь от слов. Провожу следующие действия с 1 колонкой.\n"
      ],
      "metadata": {
        "id": "Or06qLja-KzR"
      }
    },
    {
      "cell_type": "code",
      "source": [
        "d = {} \n",
        "for i in range(len(df['processor_brand'])):\n",
        "  d.update({df['processor_brand'][i]: i})\n",
        "print(d)"
      ],
      "metadata": {
        "colab": {
          "base_uri": "https://localhost:8080/"
        },
        "id": "0LDAAJFRuP3i",
        "outputId": "e6016aa1-4080-4703-d618-3daffc140885"
      },
      "execution_count": null,
      "outputs": [
        {
          "output_type": "stream",
          "name": "stdout",
          "text": [
            "{'AMD': 895, 'Intel': 820, 'M1': 678, 'MediaTek': 727, 'Qualcomm': 894}\n"
          ]
        }
      ]
    },
    {
      "cell_type": "markdown",
      "source": [
        "Создаю новую колонку с цифрами вместо слов. Это нужно для одной из моделей."
      ],
      "metadata": {
        "id": "k1JbY5Gd-O2P"
      }
    },
    {
      "cell_type": "code",
      "source": [
        "df['processor_brand_num'] = ''\n",
        "#Добавляю столбец\n",
        "df"
      ],
      "metadata": {
        "colab": {
          "base_uri": "https://localhost:8080/",
          "height": 661
        },
        "id": "VUVJih92-IXh",
        "outputId": "e7862580-63a9-41b1-e332-a1e7a40c7c2c"
      },
      "execution_count": null,
      "outputs": [
        {
          "output_type": "execute_result",
          "data": {
            "text/plain": [
              "       brand     model processor_brand     processor_name processor_gnrtn  \\\n",
              "0     Lenovo   A6-9225             AMD  A6-9225 Processor            10th   \n",
              "1     Lenovo   Ideapad             AMD           APU Dual            10th   \n",
              "2      Avita      PURA             AMD           APU Dual            10th   \n",
              "3      Avita      PURA             AMD           APU Dual            10th   \n",
              "4      Avita      PURA             AMD           APU Dual            10th   \n",
              "..       ...       ...             ...                ...             ...   \n",
              "891     ASUS       ROG             AMD            Ryzen 9         Missing   \n",
              "892     ASUS     Ryzen             AMD            Ryzen 9         Missing   \n",
              "893     ASUS     Ryzen             AMD            Ryzen 9         Missing   \n",
              "894  SAMSUNG    Galaxy        Qualcomm      Snapdragon 7c         Missing   \n",
              "895   Lenovo  Thinkpad             AMD            Ryzen 5            10th   \n",
              "\n",
              "      ram_gb ram_type      ssd      hdd       os  ... warranty  Touchscreen  \\\n",
              "0    4 GB GB     DDR4     0 GB  1024 GB  Windows  ...        0           No   \n",
              "1    4 GB GB     DDR4     0 GB   512 GB  Windows  ...        0           No   \n",
              "2    4 GB GB     DDR4   128 GB     0 GB  Windows  ...        0           No   \n",
              "3    4 GB GB     DDR4   128 GB     0 GB  Windows  ...        0           No   \n",
              "4    4 GB GB     DDR4   256 GB     0 GB  Windows  ...        0           No   \n",
              "..       ...      ...      ...      ...      ...  ...      ...          ...   \n",
              "891  4 GB GB     DDR4  1024 GB     0 GB  Windows  ...        1           No   \n",
              "892  4 GB GB     DDR4  1024 GB     0 GB  Windows  ...        1           No   \n",
              "893  4 GB GB     DDR4  1024 GB     0 GB  Windows  ...        1           No   \n",
              "894  4 GB GB  LPDDR4X     0 GB   512 GB  Windows  ...        0           No   \n",
              "895  8 GB GB     DDR4   512 GB     0 GB      DOS  ...        0           No   \n",
              "\n",
              "    msoffice latest_price  old_price discount star_rating  ratings  reviews  \\\n",
              "0         No        24990      32790       23         3.7       63       12   \n",
              "1         No        19590      21325        8         3.6     1894      256   \n",
              "2         No        19990      27990       28         3.7     1153      159   \n",
              "3         No        21490      27990       23         3.7     1153      159   \n",
              "4         No        24990      33490       25         3.7     1657      234   \n",
              "..       ...          ...        ...      ...         ...      ...      ...   \n",
              "891       No       144990     194990       25         0.0        0        0   \n",
              "892       No       149990          0        0         0.0        0        0   \n",
              "893       No       142990          0        0         0.0        0        0   \n",
              "894       No        38990      47990       18         0.0        0        0   \n",
              "895       No        57490      78400       26         4.2       18        4   \n",
              "\n",
              "     processor_brand_num  \n",
              "0                         \n",
              "1                         \n",
              "2                         \n",
              "3                         \n",
              "4                         \n",
              "..                   ...  \n",
              "891                       \n",
              "892                       \n",
              "893                       \n",
              "894                       \n",
              "895                       \n",
              "\n",
              "[896 rows x 24 columns]"
            ],
            "text/html": [
              "\n",
              "  <div id=\"df-b17321e4-6b81-4812-97bc-030de797945a\">\n",
              "    <div class=\"colab-df-container\">\n",
              "      <div>\n",
              "<style scoped>\n",
              "    .dataframe tbody tr th:only-of-type {\n",
              "        vertical-align: middle;\n",
              "    }\n",
              "\n",
              "    .dataframe tbody tr th {\n",
              "        vertical-align: top;\n",
              "    }\n",
              "\n",
              "    .dataframe thead th {\n",
              "        text-align: right;\n",
              "    }\n",
              "</style>\n",
              "<table border=\"1\" class=\"dataframe\">\n",
              "  <thead>\n",
              "    <tr style=\"text-align: right;\">\n",
              "      <th></th>\n",
              "      <th>brand</th>\n",
              "      <th>model</th>\n",
              "      <th>processor_brand</th>\n",
              "      <th>processor_name</th>\n",
              "      <th>processor_gnrtn</th>\n",
              "      <th>ram_gb</th>\n",
              "      <th>ram_type</th>\n",
              "      <th>ssd</th>\n",
              "      <th>hdd</th>\n",
              "      <th>os</th>\n",
              "      <th>...</th>\n",
              "      <th>warranty</th>\n",
              "      <th>Touchscreen</th>\n",
              "      <th>msoffice</th>\n",
              "      <th>latest_price</th>\n",
              "      <th>old_price</th>\n",
              "      <th>discount</th>\n",
              "      <th>star_rating</th>\n",
              "      <th>ratings</th>\n",
              "      <th>reviews</th>\n",
              "      <th>processor_brand_num</th>\n",
              "    </tr>\n",
              "  </thead>\n",
              "  <tbody>\n",
              "    <tr>\n",
              "      <th>0</th>\n",
              "      <td>Lenovo</td>\n",
              "      <td>A6-9225</td>\n",
              "      <td>AMD</td>\n",
              "      <td>A6-9225 Processor</td>\n",
              "      <td>10th</td>\n",
              "      <td>4 GB GB</td>\n",
              "      <td>DDR4</td>\n",
              "      <td>0 GB</td>\n",
              "      <td>1024 GB</td>\n",
              "      <td>Windows</td>\n",
              "      <td>...</td>\n",
              "      <td>0</td>\n",
              "      <td>No</td>\n",
              "      <td>No</td>\n",
              "      <td>24990</td>\n",
              "      <td>32790</td>\n",
              "      <td>23</td>\n",
              "      <td>3.7</td>\n",
              "      <td>63</td>\n",
              "      <td>12</td>\n",
              "      <td></td>\n",
              "    </tr>\n",
              "    <tr>\n",
              "      <th>1</th>\n",
              "      <td>Lenovo</td>\n",
              "      <td>Ideapad</td>\n",
              "      <td>AMD</td>\n",
              "      <td>APU Dual</td>\n",
              "      <td>10th</td>\n",
              "      <td>4 GB GB</td>\n",
              "      <td>DDR4</td>\n",
              "      <td>0 GB</td>\n",
              "      <td>512 GB</td>\n",
              "      <td>Windows</td>\n",
              "      <td>...</td>\n",
              "      <td>0</td>\n",
              "      <td>No</td>\n",
              "      <td>No</td>\n",
              "      <td>19590</td>\n",
              "      <td>21325</td>\n",
              "      <td>8</td>\n",
              "      <td>3.6</td>\n",
              "      <td>1894</td>\n",
              "      <td>256</td>\n",
              "      <td></td>\n",
              "    </tr>\n",
              "    <tr>\n",
              "      <th>2</th>\n",
              "      <td>Avita</td>\n",
              "      <td>PURA</td>\n",
              "      <td>AMD</td>\n",
              "      <td>APU Dual</td>\n",
              "      <td>10th</td>\n",
              "      <td>4 GB GB</td>\n",
              "      <td>DDR4</td>\n",
              "      <td>128 GB</td>\n",
              "      <td>0 GB</td>\n",
              "      <td>Windows</td>\n",
              "      <td>...</td>\n",
              "      <td>0</td>\n",
              "      <td>No</td>\n",
              "      <td>No</td>\n",
              "      <td>19990</td>\n",
              "      <td>27990</td>\n",
              "      <td>28</td>\n",
              "      <td>3.7</td>\n",
              "      <td>1153</td>\n",
              "      <td>159</td>\n",
              "      <td></td>\n",
              "    </tr>\n",
              "    <tr>\n",
              "      <th>3</th>\n",
              "      <td>Avita</td>\n",
              "      <td>PURA</td>\n",
              "      <td>AMD</td>\n",
              "      <td>APU Dual</td>\n",
              "      <td>10th</td>\n",
              "      <td>4 GB GB</td>\n",
              "      <td>DDR4</td>\n",
              "      <td>128 GB</td>\n",
              "      <td>0 GB</td>\n",
              "      <td>Windows</td>\n",
              "      <td>...</td>\n",
              "      <td>0</td>\n",
              "      <td>No</td>\n",
              "      <td>No</td>\n",
              "      <td>21490</td>\n",
              "      <td>27990</td>\n",
              "      <td>23</td>\n",
              "      <td>3.7</td>\n",
              "      <td>1153</td>\n",
              "      <td>159</td>\n",
              "      <td></td>\n",
              "    </tr>\n",
              "    <tr>\n",
              "      <th>4</th>\n",
              "      <td>Avita</td>\n",
              "      <td>PURA</td>\n",
              "      <td>AMD</td>\n",
              "      <td>APU Dual</td>\n",
              "      <td>10th</td>\n",
              "      <td>4 GB GB</td>\n",
              "      <td>DDR4</td>\n",
              "      <td>256 GB</td>\n",
              "      <td>0 GB</td>\n",
              "      <td>Windows</td>\n",
              "      <td>...</td>\n",
              "      <td>0</td>\n",
              "      <td>No</td>\n",
              "      <td>No</td>\n",
              "      <td>24990</td>\n",
              "      <td>33490</td>\n",
              "      <td>25</td>\n",
              "      <td>3.7</td>\n",
              "      <td>1657</td>\n",
              "      <td>234</td>\n",
              "      <td></td>\n",
              "    </tr>\n",
              "    <tr>\n",
              "      <th>...</th>\n",
              "      <td>...</td>\n",
              "      <td>...</td>\n",
              "      <td>...</td>\n",
              "      <td>...</td>\n",
              "      <td>...</td>\n",
              "      <td>...</td>\n",
              "      <td>...</td>\n",
              "      <td>...</td>\n",
              "      <td>...</td>\n",
              "      <td>...</td>\n",
              "      <td>...</td>\n",
              "      <td>...</td>\n",
              "      <td>...</td>\n",
              "      <td>...</td>\n",
              "      <td>...</td>\n",
              "      <td>...</td>\n",
              "      <td>...</td>\n",
              "      <td>...</td>\n",
              "      <td>...</td>\n",
              "      <td>...</td>\n",
              "      <td>...</td>\n",
              "    </tr>\n",
              "    <tr>\n",
              "      <th>891</th>\n",
              "      <td>ASUS</td>\n",
              "      <td>ROG</td>\n",
              "      <td>AMD</td>\n",
              "      <td>Ryzen 9</td>\n",
              "      <td>Missing</td>\n",
              "      <td>4 GB GB</td>\n",
              "      <td>DDR4</td>\n",
              "      <td>1024 GB</td>\n",
              "      <td>0 GB</td>\n",
              "      <td>Windows</td>\n",
              "      <td>...</td>\n",
              "      <td>1</td>\n",
              "      <td>No</td>\n",
              "      <td>No</td>\n",
              "      <td>144990</td>\n",
              "      <td>194990</td>\n",
              "      <td>25</td>\n",
              "      <td>0.0</td>\n",
              "      <td>0</td>\n",
              "      <td>0</td>\n",
              "      <td></td>\n",
              "    </tr>\n",
              "    <tr>\n",
              "      <th>892</th>\n",
              "      <td>ASUS</td>\n",
              "      <td>Ryzen</td>\n",
              "      <td>AMD</td>\n",
              "      <td>Ryzen 9</td>\n",
              "      <td>Missing</td>\n",
              "      <td>4 GB GB</td>\n",
              "      <td>DDR4</td>\n",
              "      <td>1024 GB</td>\n",
              "      <td>0 GB</td>\n",
              "      <td>Windows</td>\n",
              "      <td>...</td>\n",
              "      <td>1</td>\n",
              "      <td>No</td>\n",
              "      <td>No</td>\n",
              "      <td>149990</td>\n",
              "      <td>0</td>\n",
              "      <td>0</td>\n",
              "      <td>0.0</td>\n",
              "      <td>0</td>\n",
              "      <td>0</td>\n",
              "      <td></td>\n",
              "    </tr>\n",
              "    <tr>\n",
              "      <th>893</th>\n",
              "      <td>ASUS</td>\n",
              "      <td>Ryzen</td>\n",
              "      <td>AMD</td>\n",
              "      <td>Ryzen 9</td>\n",
              "      <td>Missing</td>\n",
              "      <td>4 GB GB</td>\n",
              "      <td>DDR4</td>\n",
              "      <td>1024 GB</td>\n",
              "      <td>0 GB</td>\n",
              "      <td>Windows</td>\n",
              "      <td>...</td>\n",
              "      <td>1</td>\n",
              "      <td>No</td>\n",
              "      <td>No</td>\n",
              "      <td>142990</td>\n",
              "      <td>0</td>\n",
              "      <td>0</td>\n",
              "      <td>0.0</td>\n",
              "      <td>0</td>\n",
              "      <td>0</td>\n",
              "      <td></td>\n",
              "    </tr>\n",
              "    <tr>\n",
              "      <th>894</th>\n",
              "      <td>SAMSUNG</td>\n",
              "      <td>Galaxy</td>\n",
              "      <td>Qualcomm</td>\n",
              "      <td>Snapdragon 7c</td>\n",
              "      <td>Missing</td>\n",
              "      <td>4 GB GB</td>\n",
              "      <td>LPDDR4X</td>\n",
              "      <td>0 GB</td>\n",
              "      <td>512 GB</td>\n",
              "      <td>Windows</td>\n",
              "      <td>...</td>\n",
              "      <td>0</td>\n",
              "      <td>No</td>\n",
              "      <td>No</td>\n",
              "      <td>38990</td>\n",
              "      <td>47990</td>\n",
              "      <td>18</td>\n",
              "      <td>0.0</td>\n",
              "      <td>0</td>\n",
              "      <td>0</td>\n",
              "      <td></td>\n",
              "    </tr>\n",
              "    <tr>\n",
              "      <th>895</th>\n",
              "      <td>Lenovo</td>\n",
              "      <td>Thinkpad</td>\n",
              "      <td>AMD</td>\n",
              "      <td>Ryzen 5</td>\n",
              "      <td>10th</td>\n",
              "      <td>8 GB GB</td>\n",
              "      <td>DDR4</td>\n",
              "      <td>512 GB</td>\n",
              "      <td>0 GB</td>\n",
              "      <td>DOS</td>\n",
              "      <td>...</td>\n",
              "      <td>0</td>\n",
              "      <td>No</td>\n",
              "      <td>No</td>\n",
              "      <td>57490</td>\n",
              "      <td>78400</td>\n",
              "      <td>26</td>\n",
              "      <td>4.2</td>\n",
              "      <td>18</td>\n",
              "      <td>4</td>\n",
              "      <td></td>\n",
              "    </tr>\n",
              "  </tbody>\n",
              "</table>\n",
              "<p>896 rows × 24 columns</p>\n",
              "</div>\n",
              "      <button class=\"colab-df-convert\" onclick=\"convertToInteractive('df-b17321e4-6b81-4812-97bc-030de797945a')\"\n",
              "              title=\"Convert this dataframe to an interactive table.\"\n",
              "              style=\"display:none;\">\n",
              "        \n",
              "  <svg xmlns=\"http://www.w3.org/2000/svg\" height=\"24px\"viewBox=\"0 0 24 24\"\n",
              "       width=\"24px\">\n",
              "    <path d=\"M0 0h24v24H0V0z\" fill=\"none\"/>\n",
              "    <path d=\"M18.56 5.44l.94 2.06.94-2.06 2.06-.94-2.06-.94-.94-2.06-.94 2.06-2.06.94zm-11 1L8.5 8.5l.94-2.06 2.06-.94-2.06-.94L8.5 2.5l-.94 2.06-2.06.94zm10 10l.94 2.06.94-2.06 2.06-.94-2.06-.94-.94-2.06-.94 2.06-2.06.94z\"/><path d=\"M17.41 7.96l-1.37-1.37c-.4-.4-.92-.59-1.43-.59-.52 0-1.04.2-1.43.59L10.3 9.45l-7.72 7.72c-.78.78-.78 2.05 0 2.83L4 21.41c.39.39.9.59 1.41.59.51 0 1.02-.2 1.41-.59l7.78-7.78 2.81-2.81c.8-.78.8-2.07 0-2.86zM5.41 20L4 18.59l7.72-7.72 1.47 1.35L5.41 20z\"/>\n",
              "  </svg>\n",
              "      </button>\n",
              "      \n",
              "  <style>\n",
              "    .colab-df-container {\n",
              "      display:flex;\n",
              "      flex-wrap:wrap;\n",
              "      gap: 12px;\n",
              "    }\n",
              "\n",
              "    .colab-df-convert {\n",
              "      background-color: #E8F0FE;\n",
              "      border: none;\n",
              "      border-radius: 50%;\n",
              "      cursor: pointer;\n",
              "      display: none;\n",
              "      fill: #1967D2;\n",
              "      height: 32px;\n",
              "      padding: 0 0 0 0;\n",
              "      width: 32px;\n",
              "    }\n",
              "\n",
              "    .colab-df-convert:hover {\n",
              "      background-color: #E2EBFA;\n",
              "      box-shadow: 0px 1px 2px rgba(60, 64, 67, 0.3), 0px 1px 3px 1px rgba(60, 64, 67, 0.15);\n",
              "      fill: #174EA6;\n",
              "    }\n",
              "\n",
              "    [theme=dark] .colab-df-convert {\n",
              "      background-color: #3B4455;\n",
              "      fill: #D2E3FC;\n",
              "    }\n",
              "\n",
              "    [theme=dark] .colab-df-convert:hover {\n",
              "      background-color: #434B5C;\n",
              "      box-shadow: 0px 1px 3px 1px rgba(0, 0, 0, 0.15);\n",
              "      filter: drop-shadow(0px 1px 2px rgba(0, 0, 0, 0.3));\n",
              "      fill: #FFFFFF;\n",
              "    }\n",
              "  </style>\n",
              "\n",
              "      <script>\n",
              "        const buttonEl =\n",
              "          document.querySelector('#df-b17321e4-6b81-4812-97bc-030de797945a button.colab-df-convert');\n",
              "        buttonEl.style.display =\n",
              "          google.colab.kernel.accessAllowed ? 'block' : 'none';\n",
              "\n",
              "        async function convertToInteractive(key) {\n",
              "          const element = document.querySelector('#df-b17321e4-6b81-4812-97bc-030de797945a');\n",
              "          const dataTable =\n",
              "            await google.colab.kernel.invokeFunction('convertToInteractive',\n",
              "                                                     [key], {});\n",
              "          if (!dataTable) return;\n",
              "\n",
              "          const docLinkHtml = 'Like what you see? Visit the ' +\n",
              "            '<a target=\"_blank\" href=https://colab.research.google.com/notebooks/data_table.ipynb>data table notebook</a>'\n",
              "            + ' to learn more about interactive tables.';\n",
              "          element.innerHTML = '';\n",
              "          dataTable['output_type'] = 'display_data';\n",
              "          await google.colab.output.renderOutput(dataTable, element);\n",
              "          const docLink = document.createElement('div');\n",
              "          docLink.innerHTML = docLinkHtml;\n",
              "          element.appendChild(docLink);\n",
              "        }\n",
              "      </script>\n",
              "    </div>\n",
              "  </div>\n",
              "  "
            ]
          },
          "metadata": {},
          "execution_count": 7
        }
      ]
    },
    {
      "cell_type": "markdown",
      "source": [
        "Перебираю все строки в новый столбец. Новый столбец с данными из списка со словами переформатированными в цифры."
      ],
      "metadata": {
        "id": "KMBOQvA3vkH4"
      }
    },
    {
      "cell_type": "code",
      "source": [
        "for index, row in df.iterrows():\n",
        "  #print(index)\n",
        "  df['processor_brand_num'].iloc[index] = d[row['processor_brand']]  \n",
        "df.head()"
      ],
      "metadata": {
        "colab": {
          "base_uri": "https://localhost:8080/",
          "height": 473
        },
        "id": "WSqvZjhD-Dz6",
        "outputId": "4d0cf954-570b-488a-dc2b-f108a3d47b44"
      },
      "execution_count": null,
      "outputs": [
        {
          "output_type": "stream",
          "name": "stderr",
          "text": [
            "/usr/local/lib/python3.8/dist-packages/pandas/core/indexing.py:1732: SettingWithCopyWarning: \n",
            "A value is trying to be set on a copy of a slice from a DataFrame\n",
            "\n",
            "See the caveats in the documentation: https://pandas.pydata.org/pandas-docs/stable/user_guide/indexing.html#returning-a-view-versus-a-copy\n",
            "  self._setitem_single_block(indexer, value, name)\n"
          ]
        },
        {
          "output_type": "execute_result",
          "data": {
            "text/plain": [
              "    brand    model processor_brand     processor_name processor_gnrtn  \\\n",
              "0  Lenovo  A6-9225             AMD  A6-9225 Processor            10th   \n",
              "1  Lenovo  Ideapad             AMD           APU Dual            10th   \n",
              "2   Avita     PURA             AMD           APU Dual            10th   \n",
              "3   Avita     PURA             AMD           APU Dual            10th   \n",
              "4   Avita     PURA             AMD           APU Dual            10th   \n",
              "\n",
              "    ram_gb ram_type     ssd      hdd       os  ... warranty  Touchscreen  \\\n",
              "0  4 GB GB     DDR4    0 GB  1024 GB  Windows  ...        0           No   \n",
              "1  4 GB GB     DDR4    0 GB   512 GB  Windows  ...        0           No   \n",
              "2  4 GB GB     DDR4  128 GB     0 GB  Windows  ...        0           No   \n",
              "3  4 GB GB     DDR4  128 GB     0 GB  Windows  ...        0           No   \n",
              "4  4 GB GB     DDR4  256 GB     0 GB  Windows  ...        0           No   \n",
              "\n",
              "  msoffice latest_price  old_price discount star_rating  ratings  reviews  \\\n",
              "0       No        24990      32790       23         3.7       63       12   \n",
              "1       No        19590      21325        8         3.6     1894      256   \n",
              "2       No        19990      27990       28         3.7     1153      159   \n",
              "3       No        21490      27990       23         3.7     1153      159   \n",
              "4       No        24990      33490       25         3.7     1657      234   \n",
              "\n",
              "   processor_brand_num  \n",
              "0                  895  \n",
              "1                  895  \n",
              "2                  895  \n",
              "3                  895  \n",
              "4                  895  \n",
              "\n",
              "[5 rows x 24 columns]"
            ],
            "text/html": [
              "\n",
              "  <div id=\"df-c88c0e2f-298b-4f0e-a2ab-8547c851d984\">\n",
              "    <div class=\"colab-df-container\">\n",
              "      <div>\n",
              "<style scoped>\n",
              "    .dataframe tbody tr th:only-of-type {\n",
              "        vertical-align: middle;\n",
              "    }\n",
              "\n",
              "    .dataframe tbody tr th {\n",
              "        vertical-align: top;\n",
              "    }\n",
              "\n",
              "    .dataframe thead th {\n",
              "        text-align: right;\n",
              "    }\n",
              "</style>\n",
              "<table border=\"1\" class=\"dataframe\">\n",
              "  <thead>\n",
              "    <tr style=\"text-align: right;\">\n",
              "      <th></th>\n",
              "      <th>brand</th>\n",
              "      <th>model</th>\n",
              "      <th>processor_brand</th>\n",
              "      <th>processor_name</th>\n",
              "      <th>processor_gnrtn</th>\n",
              "      <th>ram_gb</th>\n",
              "      <th>ram_type</th>\n",
              "      <th>ssd</th>\n",
              "      <th>hdd</th>\n",
              "      <th>os</th>\n",
              "      <th>...</th>\n",
              "      <th>warranty</th>\n",
              "      <th>Touchscreen</th>\n",
              "      <th>msoffice</th>\n",
              "      <th>latest_price</th>\n",
              "      <th>old_price</th>\n",
              "      <th>discount</th>\n",
              "      <th>star_rating</th>\n",
              "      <th>ratings</th>\n",
              "      <th>reviews</th>\n",
              "      <th>processor_brand_num</th>\n",
              "    </tr>\n",
              "  </thead>\n",
              "  <tbody>\n",
              "    <tr>\n",
              "      <th>0</th>\n",
              "      <td>Lenovo</td>\n",
              "      <td>A6-9225</td>\n",
              "      <td>AMD</td>\n",
              "      <td>A6-9225 Processor</td>\n",
              "      <td>10th</td>\n",
              "      <td>4 GB GB</td>\n",
              "      <td>DDR4</td>\n",
              "      <td>0 GB</td>\n",
              "      <td>1024 GB</td>\n",
              "      <td>Windows</td>\n",
              "      <td>...</td>\n",
              "      <td>0</td>\n",
              "      <td>No</td>\n",
              "      <td>No</td>\n",
              "      <td>24990</td>\n",
              "      <td>32790</td>\n",
              "      <td>23</td>\n",
              "      <td>3.7</td>\n",
              "      <td>63</td>\n",
              "      <td>12</td>\n",
              "      <td>895</td>\n",
              "    </tr>\n",
              "    <tr>\n",
              "      <th>1</th>\n",
              "      <td>Lenovo</td>\n",
              "      <td>Ideapad</td>\n",
              "      <td>AMD</td>\n",
              "      <td>APU Dual</td>\n",
              "      <td>10th</td>\n",
              "      <td>4 GB GB</td>\n",
              "      <td>DDR4</td>\n",
              "      <td>0 GB</td>\n",
              "      <td>512 GB</td>\n",
              "      <td>Windows</td>\n",
              "      <td>...</td>\n",
              "      <td>0</td>\n",
              "      <td>No</td>\n",
              "      <td>No</td>\n",
              "      <td>19590</td>\n",
              "      <td>21325</td>\n",
              "      <td>8</td>\n",
              "      <td>3.6</td>\n",
              "      <td>1894</td>\n",
              "      <td>256</td>\n",
              "      <td>895</td>\n",
              "    </tr>\n",
              "    <tr>\n",
              "      <th>2</th>\n",
              "      <td>Avita</td>\n",
              "      <td>PURA</td>\n",
              "      <td>AMD</td>\n",
              "      <td>APU Dual</td>\n",
              "      <td>10th</td>\n",
              "      <td>4 GB GB</td>\n",
              "      <td>DDR4</td>\n",
              "      <td>128 GB</td>\n",
              "      <td>0 GB</td>\n",
              "      <td>Windows</td>\n",
              "      <td>...</td>\n",
              "      <td>0</td>\n",
              "      <td>No</td>\n",
              "      <td>No</td>\n",
              "      <td>19990</td>\n",
              "      <td>27990</td>\n",
              "      <td>28</td>\n",
              "      <td>3.7</td>\n",
              "      <td>1153</td>\n",
              "      <td>159</td>\n",
              "      <td>895</td>\n",
              "    </tr>\n",
              "    <tr>\n",
              "      <th>3</th>\n",
              "      <td>Avita</td>\n",
              "      <td>PURA</td>\n",
              "      <td>AMD</td>\n",
              "      <td>APU Dual</td>\n",
              "      <td>10th</td>\n",
              "      <td>4 GB GB</td>\n",
              "      <td>DDR4</td>\n",
              "      <td>128 GB</td>\n",
              "      <td>0 GB</td>\n",
              "      <td>Windows</td>\n",
              "      <td>...</td>\n",
              "      <td>0</td>\n",
              "      <td>No</td>\n",
              "      <td>No</td>\n",
              "      <td>21490</td>\n",
              "      <td>27990</td>\n",
              "      <td>23</td>\n",
              "      <td>3.7</td>\n",
              "      <td>1153</td>\n",
              "      <td>159</td>\n",
              "      <td>895</td>\n",
              "    </tr>\n",
              "    <tr>\n",
              "      <th>4</th>\n",
              "      <td>Avita</td>\n",
              "      <td>PURA</td>\n",
              "      <td>AMD</td>\n",
              "      <td>APU Dual</td>\n",
              "      <td>10th</td>\n",
              "      <td>4 GB GB</td>\n",
              "      <td>DDR4</td>\n",
              "      <td>256 GB</td>\n",
              "      <td>0 GB</td>\n",
              "      <td>Windows</td>\n",
              "      <td>...</td>\n",
              "      <td>0</td>\n",
              "      <td>No</td>\n",
              "      <td>No</td>\n",
              "      <td>24990</td>\n",
              "      <td>33490</td>\n",
              "      <td>25</td>\n",
              "      <td>3.7</td>\n",
              "      <td>1657</td>\n",
              "      <td>234</td>\n",
              "      <td>895</td>\n",
              "    </tr>\n",
              "  </tbody>\n",
              "</table>\n",
              "<p>5 rows × 24 columns</p>\n",
              "</div>\n",
              "      <button class=\"colab-df-convert\" onclick=\"convertToInteractive('df-c88c0e2f-298b-4f0e-a2ab-8547c851d984')\"\n",
              "              title=\"Convert this dataframe to an interactive table.\"\n",
              "              style=\"display:none;\">\n",
              "        \n",
              "  <svg xmlns=\"http://www.w3.org/2000/svg\" height=\"24px\"viewBox=\"0 0 24 24\"\n",
              "       width=\"24px\">\n",
              "    <path d=\"M0 0h24v24H0V0z\" fill=\"none\"/>\n",
              "    <path d=\"M18.56 5.44l.94 2.06.94-2.06 2.06-.94-2.06-.94-.94-2.06-.94 2.06-2.06.94zm-11 1L8.5 8.5l.94-2.06 2.06-.94-2.06-.94L8.5 2.5l-.94 2.06-2.06.94zm10 10l.94 2.06.94-2.06 2.06-.94-2.06-.94-.94-2.06-.94 2.06-2.06.94z\"/><path d=\"M17.41 7.96l-1.37-1.37c-.4-.4-.92-.59-1.43-.59-.52 0-1.04.2-1.43.59L10.3 9.45l-7.72 7.72c-.78.78-.78 2.05 0 2.83L4 21.41c.39.39.9.59 1.41.59.51 0 1.02-.2 1.41-.59l7.78-7.78 2.81-2.81c.8-.78.8-2.07 0-2.86zM5.41 20L4 18.59l7.72-7.72 1.47 1.35L5.41 20z\"/>\n",
              "  </svg>\n",
              "      </button>\n",
              "      \n",
              "  <style>\n",
              "    .colab-df-container {\n",
              "      display:flex;\n",
              "      flex-wrap:wrap;\n",
              "      gap: 12px;\n",
              "    }\n",
              "\n",
              "    .colab-df-convert {\n",
              "      background-color: #E8F0FE;\n",
              "      border: none;\n",
              "      border-radius: 50%;\n",
              "      cursor: pointer;\n",
              "      display: none;\n",
              "      fill: #1967D2;\n",
              "      height: 32px;\n",
              "      padding: 0 0 0 0;\n",
              "      width: 32px;\n",
              "    }\n",
              "\n",
              "    .colab-df-convert:hover {\n",
              "      background-color: #E2EBFA;\n",
              "      box-shadow: 0px 1px 2px rgba(60, 64, 67, 0.3), 0px 1px 3px 1px rgba(60, 64, 67, 0.15);\n",
              "      fill: #174EA6;\n",
              "    }\n",
              "\n",
              "    [theme=dark] .colab-df-convert {\n",
              "      background-color: #3B4455;\n",
              "      fill: #D2E3FC;\n",
              "    }\n",
              "\n",
              "    [theme=dark] .colab-df-convert:hover {\n",
              "      background-color: #434B5C;\n",
              "      box-shadow: 0px 1px 3px 1px rgba(0, 0, 0, 0.15);\n",
              "      filter: drop-shadow(0px 1px 2px rgba(0, 0, 0, 0.3));\n",
              "      fill: #FFFFFF;\n",
              "    }\n",
              "  </style>\n",
              "\n",
              "      <script>\n",
              "        const buttonEl =\n",
              "          document.querySelector('#df-c88c0e2f-298b-4f0e-a2ab-8547c851d984 button.colab-df-convert');\n",
              "        buttonEl.style.display =\n",
              "          google.colab.kernel.accessAllowed ? 'block' : 'none';\n",
              "\n",
              "        async function convertToInteractive(key) {\n",
              "          const element = document.querySelector('#df-c88c0e2f-298b-4f0e-a2ab-8547c851d984');\n",
              "          const dataTable =\n",
              "            await google.colab.kernel.invokeFunction('convertToInteractive',\n",
              "                                                     [key], {});\n",
              "          if (!dataTable) return;\n",
              "\n",
              "          const docLinkHtml = 'Like what you see? Visit the ' +\n",
              "            '<a target=\"_blank\" href=https://colab.research.google.com/notebooks/data_table.ipynb>data table notebook</a>'\n",
              "            + ' to learn more about interactive tables.';\n",
              "          element.innerHTML = '';\n",
              "          dataTable['output_type'] = 'display_data';\n",
              "          await google.colab.output.renderOutput(dataTable, element);\n",
              "          const docLink = document.createElement('div');\n",
              "          docLink.innerHTML = docLinkHtml;\n",
              "          element.appendChild(docLink);\n",
              "        }\n",
              "      </script>\n",
              "    </div>\n",
              "  </div>\n",
              "  "
            ]
          },
          "metadata": {},
          "execution_count": 8
        }
      ]
    },
    {
      "cell_type": "markdown",
      "source": [
        "Создаю еще несколько столбцов."
      ],
      "metadata": {
        "id": "dYUGDNNGvn4v"
      }
    },
    {
      "cell_type": "code",
      "source": [
        "df['brand_num'] = ''\n",
        "df['processor_name_num'] = ''\n",
        "df['processor_gnrtn_num'] = ''\n",
        "df['ram_type_num'] = ''\n",
        "df['os_num'] = ''\n",
        "df['display_size_num'] = ''\n",
        "df"
      ],
      "metadata": {
        "colab": {
          "base_uri": "https://localhost:8080/",
          "height": 661
        },
        "id": "OQfyf6nvL5DW",
        "outputId": "a77a5839-6dcc-4dd6-b65c-ac58c7af1361"
      },
      "execution_count": null,
      "outputs": [
        {
          "output_type": "execute_result",
          "data": {
            "text/plain": [
              "       brand     model processor_brand     processor_name processor_gnrtn  \\\n",
              "0     Lenovo   A6-9225             AMD  A6-9225 Processor            10th   \n",
              "1     Lenovo   Ideapad             AMD           APU Dual            10th   \n",
              "2      Avita      PURA             AMD           APU Dual            10th   \n",
              "3      Avita      PURA             AMD           APU Dual            10th   \n",
              "4      Avita      PURA             AMD           APU Dual            10th   \n",
              "..       ...       ...             ...                ...             ...   \n",
              "891     ASUS       ROG             AMD            Ryzen 9         Missing   \n",
              "892     ASUS     Ryzen             AMD            Ryzen 9         Missing   \n",
              "893     ASUS     Ryzen             AMD            Ryzen 9         Missing   \n",
              "894  SAMSUNG    Galaxy        Qualcomm      Snapdragon 7c         Missing   \n",
              "895   Lenovo  Thinkpad             AMD            Ryzen 5            10th   \n",
              "\n",
              "      ram_gb ram_type      ssd      hdd       os  ... star_rating  ratings  \\\n",
              "0    4 GB GB     DDR4     0 GB  1024 GB  Windows  ...         3.7       63   \n",
              "1    4 GB GB     DDR4     0 GB   512 GB  Windows  ...         3.6     1894   \n",
              "2    4 GB GB     DDR4   128 GB     0 GB  Windows  ...         3.7     1153   \n",
              "3    4 GB GB     DDR4   128 GB     0 GB  Windows  ...         3.7     1153   \n",
              "4    4 GB GB     DDR4   256 GB     0 GB  Windows  ...         3.7     1657   \n",
              "..       ...      ...      ...      ...      ...  ...         ...      ...   \n",
              "891  4 GB GB     DDR4  1024 GB     0 GB  Windows  ...         0.0        0   \n",
              "892  4 GB GB     DDR4  1024 GB     0 GB  Windows  ...         0.0        0   \n",
              "893  4 GB GB     DDR4  1024 GB     0 GB  Windows  ...         0.0        0   \n",
              "894  4 GB GB  LPDDR4X     0 GB   512 GB  Windows  ...         0.0        0   \n",
              "895  8 GB GB     DDR4   512 GB     0 GB      DOS  ...         4.2       18   \n",
              "\n",
              "    reviews processor_brand_num  brand_num processor_name_num  \\\n",
              "0        12                 895                                 \n",
              "1       256                 895                                 \n",
              "2       159                 895                                 \n",
              "3       159                 895                                 \n",
              "4       234                 895                                 \n",
              "..      ...                 ...        ...                ...   \n",
              "891       0                 895                                 \n",
              "892       0                 895                                 \n",
              "893       0                 895                                 \n",
              "894       0                 894                                 \n",
              "895       4                 895                                 \n",
              "\n",
              "    processor_gnrtn_num  ram_type_num  os_num  display_size_num  \n",
              "0                                                                \n",
              "1                                                                \n",
              "2                                                                \n",
              "3                                                                \n",
              "4                                                                \n",
              "..                  ...           ...     ...               ...  \n",
              "891                                                              \n",
              "892                                                              \n",
              "893                                                              \n",
              "894                                                              \n",
              "895                                                              \n",
              "\n",
              "[896 rows x 30 columns]"
            ],
            "text/html": [
              "\n",
              "  <div id=\"df-635ca5ec-c1a8-4e14-ba2f-7f94248243ae\">\n",
              "    <div class=\"colab-df-container\">\n",
              "      <div>\n",
              "<style scoped>\n",
              "    .dataframe tbody tr th:only-of-type {\n",
              "        vertical-align: middle;\n",
              "    }\n",
              "\n",
              "    .dataframe tbody tr th {\n",
              "        vertical-align: top;\n",
              "    }\n",
              "\n",
              "    .dataframe thead th {\n",
              "        text-align: right;\n",
              "    }\n",
              "</style>\n",
              "<table border=\"1\" class=\"dataframe\">\n",
              "  <thead>\n",
              "    <tr style=\"text-align: right;\">\n",
              "      <th></th>\n",
              "      <th>brand</th>\n",
              "      <th>model</th>\n",
              "      <th>processor_brand</th>\n",
              "      <th>processor_name</th>\n",
              "      <th>processor_gnrtn</th>\n",
              "      <th>ram_gb</th>\n",
              "      <th>ram_type</th>\n",
              "      <th>ssd</th>\n",
              "      <th>hdd</th>\n",
              "      <th>os</th>\n",
              "      <th>...</th>\n",
              "      <th>star_rating</th>\n",
              "      <th>ratings</th>\n",
              "      <th>reviews</th>\n",
              "      <th>processor_brand_num</th>\n",
              "      <th>brand_num</th>\n",
              "      <th>processor_name_num</th>\n",
              "      <th>processor_gnrtn_num</th>\n",
              "      <th>ram_type_num</th>\n",
              "      <th>os_num</th>\n",
              "      <th>display_size_num</th>\n",
              "    </tr>\n",
              "  </thead>\n",
              "  <tbody>\n",
              "    <tr>\n",
              "      <th>0</th>\n",
              "      <td>Lenovo</td>\n",
              "      <td>A6-9225</td>\n",
              "      <td>AMD</td>\n",
              "      <td>A6-9225 Processor</td>\n",
              "      <td>10th</td>\n",
              "      <td>4 GB GB</td>\n",
              "      <td>DDR4</td>\n",
              "      <td>0 GB</td>\n",
              "      <td>1024 GB</td>\n",
              "      <td>Windows</td>\n",
              "      <td>...</td>\n",
              "      <td>3.7</td>\n",
              "      <td>63</td>\n",
              "      <td>12</td>\n",
              "      <td>895</td>\n",
              "      <td></td>\n",
              "      <td></td>\n",
              "      <td></td>\n",
              "      <td></td>\n",
              "      <td></td>\n",
              "      <td></td>\n",
              "    </tr>\n",
              "    <tr>\n",
              "      <th>1</th>\n",
              "      <td>Lenovo</td>\n",
              "      <td>Ideapad</td>\n",
              "      <td>AMD</td>\n",
              "      <td>APU Dual</td>\n",
              "      <td>10th</td>\n",
              "      <td>4 GB GB</td>\n",
              "      <td>DDR4</td>\n",
              "      <td>0 GB</td>\n",
              "      <td>512 GB</td>\n",
              "      <td>Windows</td>\n",
              "      <td>...</td>\n",
              "      <td>3.6</td>\n",
              "      <td>1894</td>\n",
              "      <td>256</td>\n",
              "      <td>895</td>\n",
              "      <td></td>\n",
              "      <td></td>\n",
              "      <td></td>\n",
              "      <td></td>\n",
              "      <td></td>\n",
              "      <td></td>\n",
              "    </tr>\n",
              "    <tr>\n",
              "      <th>2</th>\n",
              "      <td>Avita</td>\n",
              "      <td>PURA</td>\n",
              "      <td>AMD</td>\n",
              "      <td>APU Dual</td>\n",
              "      <td>10th</td>\n",
              "      <td>4 GB GB</td>\n",
              "      <td>DDR4</td>\n",
              "      <td>128 GB</td>\n",
              "      <td>0 GB</td>\n",
              "      <td>Windows</td>\n",
              "      <td>...</td>\n",
              "      <td>3.7</td>\n",
              "      <td>1153</td>\n",
              "      <td>159</td>\n",
              "      <td>895</td>\n",
              "      <td></td>\n",
              "      <td></td>\n",
              "      <td></td>\n",
              "      <td></td>\n",
              "      <td></td>\n",
              "      <td></td>\n",
              "    </tr>\n",
              "    <tr>\n",
              "      <th>3</th>\n",
              "      <td>Avita</td>\n",
              "      <td>PURA</td>\n",
              "      <td>AMD</td>\n",
              "      <td>APU Dual</td>\n",
              "      <td>10th</td>\n",
              "      <td>4 GB GB</td>\n",
              "      <td>DDR4</td>\n",
              "      <td>128 GB</td>\n",
              "      <td>0 GB</td>\n",
              "      <td>Windows</td>\n",
              "      <td>...</td>\n",
              "      <td>3.7</td>\n",
              "      <td>1153</td>\n",
              "      <td>159</td>\n",
              "      <td>895</td>\n",
              "      <td></td>\n",
              "      <td></td>\n",
              "      <td></td>\n",
              "      <td></td>\n",
              "      <td></td>\n",
              "      <td></td>\n",
              "    </tr>\n",
              "    <tr>\n",
              "      <th>4</th>\n",
              "      <td>Avita</td>\n",
              "      <td>PURA</td>\n",
              "      <td>AMD</td>\n",
              "      <td>APU Dual</td>\n",
              "      <td>10th</td>\n",
              "      <td>4 GB GB</td>\n",
              "      <td>DDR4</td>\n",
              "      <td>256 GB</td>\n",
              "      <td>0 GB</td>\n",
              "      <td>Windows</td>\n",
              "      <td>...</td>\n",
              "      <td>3.7</td>\n",
              "      <td>1657</td>\n",
              "      <td>234</td>\n",
              "      <td>895</td>\n",
              "      <td></td>\n",
              "      <td></td>\n",
              "      <td></td>\n",
              "      <td></td>\n",
              "      <td></td>\n",
              "      <td></td>\n",
              "    </tr>\n",
              "    <tr>\n",
              "      <th>...</th>\n",
              "      <td>...</td>\n",
              "      <td>...</td>\n",
              "      <td>...</td>\n",
              "      <td>...</td>\n",
              "      <td>...</td>\n",
              "      <td>...</td>\n",
              "      <td>...</td>\n",
              "      <td>...</td>\n",
              "      <td>...</td>\n",
              "      <td>...</td>\n",
              "      <td>...</td>\n",
              "      <td>...</td>\n",
              "      <td>...</td>\n",
              "      <td>...</td>\n",
              "      <td>...</td>\n",
              "      <td>...</td>\n",
              "      <td>...</td>\n",
              "      <td>...</td>\n",
              "      <td>...</td>\n",
              "      <td>...</td>\n",
              "      <td>...</td>\n",
              "    </tr>\n",
              "    <tr>\n",
              "      <th>891</th>\n",
              "      <td>ASUS</td>\n",
              "      <td>ROG</td>\n",
              "      <td>AMD</td>\n",
              "      <td>Ryzen 9</td>\n",
              "      <td>Missing</td>\n",
              "      <td>4 GB GB</td>\n",
              "      <td>DDR4</td>\n",
              "      <td>1024 GB</td>\n",
              "      <td>0 GB</td>\n",
              "      <td>Windows</td>\n",
              "      <td>...</td>\n",
              "      <td>0.0</td>\n",
              "      <td>0</td>\n",
              "      <td>0</td>\n",
              "      <td>895</td>\n",
              "      <td></td>\n",
              "      <td></td>\n",
              "      <td></td>\n",
              "      <td></td>\n",
              "      <td></td>\n",
              "      <td></td>\n",
              "    </tr>\n",
              "    <tr>\n",
              "      <th>892</th>\n",
              "      <td>ASUS</td>\n",
              "      <td>Ryzen</td>\n",
              "      <td>AMD</td>\n",
              "      <td>Ryzen 9</td>\n",
              "      <td>Missing</td>\n",
              "      <td>4 GB GB</td>\n",
              "      <td>DDR4</td>\n",
              "      <td>1024 GB</td>\n",
              "      <td>0 GB</td>\n",
              "      <td>Windows</td>\n",
              "      <td>...</td>\n",
              "      <td>0.0</td>\n",
              "      <td>0</td>\n",
              "      <td>0</td>\n",
              "      <td>895</td>\n",
              "      <td></td>\n",
              "      <td></td>\n",
              "      <td></td>\n",
              "      <td></td>\n",
              "      <td></td>\n",
              "      <td></td>\n",
              "    </tr>\n",
              "    <tr>\n",
              "      <th>893</th>\n",
              "      <td>ASUS</td>\n",
              "      <td>Ryzen</td>\n",
              "      <td>AMD</td>\n",
              "      <td>Ryzen 9</td>\n",
              "      <td>Missing</td>\n",
              "      <td>4 GB GB</td>\n",
              "      <td>DDR4</td>\n",
              "      <td>1024 GB</td>\n",
              "      <td>0 GB</td>\n",
              "      <td>Windows</td>\n",
              "      <td>...</td>\n",
              "      <td>0.0</td>\n",
              "      <td>0</td>\n",
              "      <td>0</td>\n",
              "      <td>895</td>\n",
              "      <td></td>\n",
              "      <td></td>\n",
              "      <td></td>\n",
              "      <td></td>\n",
              "      <td></td>\n",
              "      <td></td>\n",
              "    </tr>\n",
              "    <tr>\n",
              "      <th>894</th>\n",
              "      <td>SAMSUNG</td>\n",
              "      <td>Galaxy</td>\n",
              "      <td>Qualcomm</td>\n",
              "      <td>Snapdragon 7c</td>\n",
              "      <td>Missing</td>\n",
              "      <td>4 GB GB</td>\n",
              "      <td>LPDDR4X</td>\n",
              "      <td>0 GB</td>\n",
              "      <td>512 GB</td>\n",
              "      <td>Windows</td>\n",
              "      <td>...</td>\n",
              "      <td>0.0</td>\n",
              "      <td>0</td>\n",
              "      <td>0</td>\n",
              "      <td>894</td>\n",
              "      <td></td>\n",
              "      <td></td>\n",
              "      <td></td>\n",
              "      <td></td>\n",
              "      <td></td>\n",
              "      <td></td>\n",
              "    </tr>\n",
              "    <tr>\n",
              "      <th>895</th>\n",
              "      <td>Lenovo</td>\n",
              "      <td>Thinkpad</td>\n",
              "      <td>AMD</td>\n",
              "      <td>Ryzen 5</td>\n",
              "      <td>10th</td>\n",
              "      <td>8 GB GB</td>\n",
              "      <td>DDR4</td>\n",
              "      <td>512 GB</td>\n",
              "      <td>0 GB</td>\n",
              "      <td>DOS</td>\n",
              "      <td>...</td>\n",
              "      <td>4.2</td>\n",
              "      <td>18</td>\n",
              "      <td>4</td>\n",
              "      <td>895</td>\n",
              "      <td></td>\n",
              "      <td></td>\n",
              "      <td></td>\n",
              "      <td></td>\n",
              "      <td></td>\n",
              "      <td></td>\n",
              "    </tr>\n",
              "  </tbody>\n",
              "</table>\n",
              "<p>896 rows × 30 columns</p>\n",
              "</div>\n",
              "      <button class=\"colab-df-convert\" onclick=\"convertToInteractive('df-635ca5ec-c1a8-4e14-ba2f-7f94248243ae')\"\n",
              "              title=\"Convert this dataframe to an interactive table.\"\n",
              "              style=\"display:none;\">\n",
              "        \n",
              "  <svg xmlns=\"http://www.w3.org/2000/svg\" height=\"24px\"viewBox=\"0 0 24 24\"\n",
              "       width=\"24px\">\n",
              "    <path d=\"M0 0h24v24H0V0z\" fill=\"none\"/>\n",
              "    <path d=\"M18.56 5.44l.94 2.06.94-2.06 2.06-.94-2.06-.94-.94-2.06-.94 2.06-2.06.94zm-11 1L8.5 8.5l.94-2.06 2.06-.94-2.06-.94L8.5 2.5l-.94 2.06-2.06.94zm10 10l.94 2.06.94-2.06 2.06-.94-2.06-.94-.94-2.06-.94 2.06-2.06.94z\"/><path d=\"M17.41 7.96l-1.37-1.37c-.4-.4-.92-.59-1.43-.59-.52 0-1.04.2-1.43.59L10.3 9.45l-7.72 7.72c-.78.78-.78 2.05 0 2.83L4 21.41c.39.39.9.59 1.41.59.51 0 1.02-.2 1.41-.59l7.78-7.78 2.81-2.81c.8-.78.8-2.07 0-2.86zM5.41 20L4 18.59l7.72-7.72 1.47 1.35L5.41 20z\"/>\n",
              "  </svg>\n",
              "      </button>\n",
              "      \n",
              "  <style>\n",
              "    .colab-df-container {\n",
              "      display:flex;\n",
              "      flex-wrap:wrap;\n",
              "      gap: 12px;\n",
              "    }\n",
              "\n",
              "    .colab-df-convert {\n",
              "      background-color: #E8F0FE;\n",
              "      border: none;\n",
              "      border-radius: 50%;\n",
              "      cursor: pointer;\n",
              "      display: none;\n",
              "      fill: #1967D2;\n",
              "      height: 32px;\n",
              "      padding: 0 0 0 0;\n",
              "      width: 32px;\n",
              "    }\n",
              "\n",
              "    .colab-df-convert:hover {\n",
              "      background-color: #E2EBFA;\n",
              "      box-shadow: 0px 1px 2px rgba(60, 64, 67, 0.3), 0px 1px 3px 1px rgba(60, 64, 67, 0.15);\n",
              "      fill: #174EA6;\n",
              "    }\n",
              "\n",
              "    [theme=dark] .colab-df-convert {\n",
              "      background-color: #3B4455;\n",
              "      fill: #D2E3FC;\n",
              "    }\n",
              "\n",
              "    [theme=dark] .colab-df-convert:hover {\n",
              "      background-color: #434B5C;\n",
              "      box-shadow: 0px 1px 3px 1px rgba(0, 0, 0, 0.15);\n",
              "      filter: drop-shadow(0px 1px 2px rgba(0, 0, 0, 0.3));\n",
              "      fill: #FFFFFF;\n",
              "    }\n",
              "  </style>\n",
              "\n",
              "      <script>\n",
              "        const buttonEl =\n",
              "          document.querySelector('#df-635ca5ec-c1a8-4e14-ba2f-7f94248243ae button.colab-df-convert');\n",
              "        buttonEl.style.display =\n",
              "          google.colab.kernel.accessAllowed ? 'block' : 'none';\n",
              "\n",
              "        async function convertToInteractive(key) {\n",
              "          const element = document.querySelector('#df-635ca5ec-c1a8-4e14-ba2f-7f94248243ae');\n",
              "          const dataTable =\n",
              "            await google.colab.kernel.invokeFunction('convertToInteractive',\n",
              "                                                     [key], {});\n",
              "          if (!dataTable) return;\n",
              "\n",
              "          const docLinkHtml = 'Like what you see? Visit the ' +\n",
              "            '<a target=\"_blank\" href=https://colab.research.google.com/notebooks/data_table.ipynb>data table notebook</a>'\n",
              "            + ' to learn more about interactive tables.';\n",
              "          element.innerHTML = '';\n",
              "          dataTable['output_type'] = 'display_data';\n",
              "          await google.colab.output.renderOutput(dataTable, element);\n",
              "          const docLink = document.createElement('div');\n",
              "          docLink.innerHTML = docLinkHtml;\n",
              "          element.appendChild(docLink);\n",
              "        }\n",
              "      </script>\n",
              "    </div>\n",
              "  </div>\n",
              "  "
            ]
          },
          "metadata": {},
          "execution_count": 9
        }
      ]
    },
    {
      "cell_type": "markdown",
      "source": [
        "Перебираю столбец с данными, которые, получил ранее, они меньше 1."
      ],
      "metadata": {
        "id": "EvuBnInGwX7m"
      }
    },
    {
      "cell_type": "markdown",
      "source": [
        "Так как модель понимает цифры от -1 до 1, привожу данные в такой вид, деля все на 1000."
      ],
      "metadata": {
        "id": "Rix0kjoOv5XU"
      }
    },
    {
      "cell_type": "code",
      "source": [
        "d = {} \n",
        "for i in range(len(df['processor_name'])):\n",
        "  i1 = i/1000\n",
        "  d.update({df['processor_name'][i]: i1})\n",
        "print(d)\n",
        "\n",
        "\n",
        "d1 = {} \n",
        "for i in range(len(df['processor_gnrtn'])):\n",
        "  i1= i/ 1000\n",
        "  d1.update({df['processor_gnrtn'][i]: i1})\n",
        "print(d1)\n",
        "\n",
        "d2 = {} \n",
        "for i in range(len(df['ram_type'])):\n",
        "  i1 = i / 1000\n",
        "  d2.update({df['ram_type'][i]: i1})\n",
        "print(d2)\n",
        "\n",
        "d3 = {} \n",
        "for i in range(len(df['os'])):\n",
        "  i1 = i / 1000\n",
        "  d3.update({df['os'][i]: i1})\n",
        "print(d3)\n",
        "\n",
        "d4 = {} \n",
        "for i in range(len(df['display_size'])):\n",
        "  i1 = i / 1000\n",
        "  d4.update({df['display_size'][i]: i1})\n",
        "print(d4)\n",
        "\n",
        "d5 = {}\n",
        "for i in range(len(df['brand'])):\n",
        "  i1 = i / 1000\n",
        "  d5.update({df['brand'][i]: i1})\n",
        "print(d5)\n"
      ],
      "metadata": {
        "colab": {
          "base_uri": "https://localhost:8080/"
        },
        "id": "Q0OlbcJp4_6T",
        "outputId": "21fd3bc2-af00-4f2c-c096-91ebc5d8e676"
      },
      "execution_count": null,
      "outputs": [
        {
          "output_type": "stream",
          "name": "stdout",
          "text": [
            "{'A6-9225 Processor': 0.0, 'APU Dual': 0.007, 'Athlon Dual': 0.009, 'Core i3': 0.204, 'Core i5': 0.642, 'Celeron Dual': 0.212, 'Ryzen': 0.019, 'Ryzen 5': 0.895, 'Core': 0.213, 'Core i7': 0.643, 'Core i9': 0.636, 'Core m3': 0.637, 'Dual Core': 0.644, 'Ever Screenpad': 0.646, 'GeForce GTX': 0.648, 'GeForce RTX': 0.679, 'GEFORCE RTX': 0.652, 'Hexa Core': 0.654, 'M1': 0.678, 'Genuine Windows': 0.698, 'Pentium Quad': 0.695, 'Pentium Silver': 0.697, 'Ryzen 3': 0.724, 'MediaTek Kompanio': 0.727, 'Quad': 0.755, 'Ryzen 7': 0.867, 'Ryzen 9': 0.893, 'Snapdragon 7c': 0.894}\n",
            "{'10th': 0.895, 'Missing': 0.894, '11th': 0.636, '7th': 0.637, '8th': 0.626, '9th': 0.605, '4th': 0.463, '12th': 0.632}\n",
            "{'DDR4': 0.895, 'LPDDR4X': 0.894, 'LPDDR4': 0.692, 'DDR5': 0.858, 'DDR3': 0.683, 'LPDDR3': 0.618}\n",
            "{'Windows': 0.894, 'DOS': 0.895, 'Mac': 0.678}\n",
            "{'Missing': 0.894, '14': 0.895, '15.6': 0.872, '14.96': 0.723, '15': 0.287, '14.1': 0.241, '12.2': 0.637, '13.3': 0.863, '17.3': 0.817, '13': 0.613, '16': 0.893, '14.9': 0.495, '16.1': 0.615, '14.2': 0.678, '16.2': 0.677, '13.4': 0.873}\n",
            "{'Lenovo': 0.895, 'Avita': 0.612, 'HP': 0.879, 'acer': 0.866, 'ASUS': 0.893, 'DELL': 0.84, 'RedmiBook': 0.253, 'realme': 0.282, 'Infinix': 0.532, 'MSI': 0.874, 'lenovo': 0.399, 'MICROSOFT': 0.728, 'Smartron': 0.637, 'LG': 0.374, 'Nokia': 0.432, 'APPLE': 0.678, 'Vaio': 0.843, 'Mi': 0.529, 'ALIENWARE': 0.651, 'iball': 0.683, 'SAMSUNG': 0.894}\n"
          ]
        }
      ]
    },
    {
      "cell_type": "markdown",
      "source": [
        "Заполняю новые столбцы."
      ],
      "metadata": {
        "id": "rR5TymiO6-1C"
      }
    },
    {
      "cell_type": "code",
      "source": [
        "for index, row in df.iterrows():\n",
        "  df['processor_name_num'].iloc[index] = d[row['processor_name']]\n",
        "for index, row in df.iterrows():\n",
        "  df['processor_gnrtn_num'].iloc[index] = d1[row['processor_gnrtn']]\n",
        "for index, row in df.iterrows():\n",
        "  df['ram_type_num'].iloc[index] = d2[row['ram_type']]\n",
        "for index, row in df.iterrows():\n",
        "  df['os_num'].iloc[index] = d3[row['os']]\n",
        "for index, row in df.iterrows():\n",
        "  df['display_size_num'].iloc[index] = d4[row['display_size']]\n",
        "for index, row in df.iterrows():\n",
        "  df['brand_num'].iloc[index] = d5[row['brand']]\n",
        "df"
      ],
      "metadata": {
        "colab": {
          "base_uri": "https://localhost:8080/",
          "height": 748
        },
        "id": "rAyqTJ5oN7Bo",
        "outputId": "887082c6-7a5f-40ea-baca-c5c727d5b367"
      },
      "execution_count": null,
      "outputs": [
        {
          "output_type": "stream",
          "name": "stderr",
          "text": [
            "/usr/local/lib/python3.8/dist-packages/pandas/core/indexing.py:1732: SettingWithCopyWarning: \n",
            "A value is trying to be set on a copy of a slice from a DataFrame\n",
            "\n",
            "See the caveats in the documentation: https://pandas.pydata.org/pandas-docs/stable/user_guide/indexing.html#returning-a-view-versus-a-copy\n",
            "  self._setitem_single_block(indexer, value, name)\n"
          ]
        },
        {
          "output_type": "execute_result",
          "data": {
            "text/plain": [
              "       brand     model processor_brand     processor_name processor_gnrtn  \\\n",
              "0     Lenovo   A6-9225             AMD  A6-9225 Processor            10th   \n",
              "1     Lenovo   Ideapad             AMD           APU Dual            10th   \n",
              "2      Avita      PURA             AMD           APU Dual            10th   \n",
              "3      Avita      PURA             AMD           APU Dual            10th   \n",
              "4      Avita      PURA             AMD           APU Dual            10th   \n",
              "..       ...       ...             ...                ...             ...   \n",
              "891     ASUS       ROG             AMD            Ryzen 9         Missing   \n",
              "892     ASUS     Ryzen             AMD            Ryzen 9         Missing   \n",
              "893     ASUS     Ryzen             AMD            Ryzen 9         Missing   \n",
              "894  SAMSUNG    Galaxy        Qualcomm      Snapdragon 7c         Missing   \n",
              "895   Lenovo  Thinkpad             AMD            Ryzen 5            10th   \n",
              "\n",
              "      ram_gb ram_type      ssd      hdd       os  ... star_rating  ratings  \\\n",
              "0    4 GB GB     DDR4     0 GB  1024 GB  Windows  ...         3.7       63   \n",
              "1    4 GB GB     DDR4     0 GB   512 GB  Windows  ...         3.6     1894   \n",
              "2    4 GB GB     DDR4   128 GB     0 GB  Windows  ...         3.7     1153   \n",
              "3    4 GB GB     DDR4   128 GB     0 GB  Windows  ...         3.7     1153   \n",
              "4    4 GB GB     DDR4   256 GB     0 GB  Windows  ...         3.7     1657   \n",
              "..       ...      ...      ...      ...      ...  ...         ...      ...   \n",
              "891  4 GB GB     DDR4  1024 GB     0 GB  Windows  ...         0.0        0   \n",
              "892  4 GB GB     DDR4  1024 GB     0 GB  Windows  ...         0.0        0   \n",
              "893  4 GB GB     DDR4  1024 GB     0 GB  Windows  ...         0.0        0   \n",
              "894  4 GB GB  LPDDR4X     0 GB   512 GB  Windows  ...         0.0        0   \n",
              "895  8 GB GB     DDR4   512 GB     0 GB      DOS  ...         4.2       18   \n",
              "\n",
              "    reviews processor_brand_num  brand_num processor_name_num  \\\n",
              "0        12                 895      0.895                0.0   \n",
              "1       256                 895      0.895              0.007   \n",
              "2       159                 895      0.612              0.007   \n",
              "3       159                 895      0.612              0.007   \n",
              "4       234                 895      0.612              0.007   \n",
              "..      ...                 ...        ...                ...   \n",
              "891       0                 895      0.893              0.893   \n",
              "892       0                 895      0.893              0.893   \n",
              "893       0                 895      0.893              0.893   \n",
              "894       0                 894      0.894              0.894   \n",
              "895       4                 895      0.895              0.895   \n",
              "\n",
              "    processor_gnrtn_num  ram_type_num  os_num  display_size_num  \n",
              "0                 0.895         0.895   0.894             0.894  \n",
              "1                 0.895         0.895   0.894             0.894  \n",
              "2                 0.895         0.895   0.894             0.894  \n",
              "3                 0.895         0.895   0.894             0.894  \n",
              "4                 0.895         0.895   0.894             0.894  \n",
              "..                  ...           ...     ...               ...  \n",
              "891               0.894         0.895   0.894             0.893  \n",
              "892               0.894         0.895   0.894             0.894  \n",
              "893               0.894         0.895   0.894             0.893  \n",
              "894               0.894         0.894   0.894             0.894  \n",
              "895               0.895         0.895   0.895             0.895  \n",
              "\n",
              "[896 rows x 30 columns]"
            ],
            "text/html": [
              "\n",
              "  <div id=\"df-45400909-574a-4ba8-9878-6fe7dce75b51\">\n",
              "    <div class=\"colab-df-container\">\n",
              "      <div>\n",
              "<style scoped>\n",
              "    .dataframe tbody tr th:only-of-type {\n",
              "        vertical-align: middle;\n",
              "    }\n",
              "\n",
              "    .dataframe tbody tr th {\n",
              "        vertical-align: top;\n",
              "    }\n",
              "\n",
              "    .dataframe thead th {\n",
              "        text-align: right;\n",
              "    }\n",
              "</style>\n",
              "<table border=\"1\" class=\"dataframe\">\n",
              "  <thead>\n",
              "    <tr style=\"text-align: right;\">\n",
              "      <th></th>\n",
              "      <th>brand</th>\n",
              "      <th>model</th>\n",
              "      <th>processor_brand</th>\n",
              "      <th>processor_name</th>\n",
              "      <th>processor_gnrtn</th>\n",
              "      <th>ram_gb</th>\n",
              "      <th>ram_type</th>\n",
              "      <th>ssd</th>\n",
              "      <th>hdd</th>\n",
              "      <th>os</th>\n",
              "      <th>...</th>\n",
              "      <th>star_rating</th>\n",
              "      <th>ratings</th>\n",
              "      <th>reviews</th>\n",
              "      <th>processor_brand_num</th>\n",
              "      <th>brand_num</th>\n",
              "      <th>processor_name_num</th>\n",
              "      <th>processor_gnrtn_num</th>\n",
              "      <th>ram_type_num</th>\n",
              "      <th>os_num</th>\n",
              "      <th>display_size_num</th>\n",
              "    </tr>\n",
              "  </thead>\n",
              "  <tbody>\n",
              "    <tr>\n",
              "      <th>0</th>\n",
              "      <td>Lenovo</td>\n",
              "      <td>A6-9225</td>\n",
              "      <td>AMD</td>\n",
              "      <td>A6-9225 Processor</td>\n",
              "      <td>10th</td>\n",
              "      <td>4 GB GB</td>\n",
              "      <td>DDR4</td>\n",
              "      <td>0 GB</td>\n",
              "      <td>1024 GB</td>\n",
              "      <td>Windows</td>\n",
              "      <td>...</td>\n",
              "      <td>3.7</td>\n",
              "      <td>63</td>\n",
              "      <td>12</td>\n",
              "      <td>895</td>\n",
              "      <td>0.895</td>\n",
              "      <td>0.0</td>\n",
              "      <td>0.895</td>\n",
              "      <td>0.895</td>\n",
              "      <td>0.894</td>\n",
              "      <td>0.894</td>\n",
              "    </tr>\n",
              "    <tr>\n",
              "      <th>1</th>\n",
              "      <td>Lenovo</td>\n",
              "      <td>Ideapad</td>\n",
              "      <td>AMD</td>\n",
              "      <td>APU Dual</td>\n",
              "      <td>10th</td>\n",
              "      <td>4 GB GB</td>\n",
              "      <td>DDR4</td>\n",
              "      <td>0 GB</td>\n",
              "      <td>512 GB</td>\n",
              "      <td>Windows</td>\n",
              "      <td>...</td>\n",
              "      <td>3.6</td>\n",
              "      <td>1894</td>\n",
              "      <td>256</td>\n",
              "      <td>895</td>\n",
              "      <td>0.895</td>\n",
              "      <td>0.007</td>\n",
              "      <td>0.895</td>\n",
              "      <td>0.895</td>\n",
              "      <td>0.894</td>\n",
              "      <td>0.894</td>\n",
              "    </tr>\n",
              "    <tr>\n",
              "      <th>2</th>\n",
              "      <td>Avita</td>\n",
              "      <td>PURA</td>\n",
              "      <td>AMD</td>\n",
              "      <td>APU Dual</td>\n",
              "      <td>10th</td>\n",
              "      <td>4 GB GB</td>\n",
              "      <td>DDR4</td>\n",
              "      <td>128 GB</td>\n",
              "      <td>0 GB</td>\n",
              "      <td>Windows</td>\n",
              "      <td>...</td>\n",
              "      <td>3.7</td>\n",
              "      <td>1153</td>\n",
              "      <td>159</td>\n",
              "      <td>895</td>\n",
              "      <td>0.612</td>\n",
              "      <td>0.007</td>\n",
              "      <td>0.895</td>\n",
              "      <td>0.895</td>\n",
              "      <td>0.894</td>\n",
              "      <td>0.894</td>\n",
              "    </tr>\n",
              "    <tr>\n",
              "      <th>3</th>\n",
              "      <td>Avita</td>\n",
              "      <td>PURA</td>\n",
              "      <td>AMD</td>\n",
              "      <td>APU Dual</td>\n",
              "      <td>10th</td>\n",
              "      <td>4 GB GB</td>\n",
              "      <td>DDR4</td>\n",
              "      <td>128 GB</td>\n",
              "      <td>0 GB</td>\n",
              "      <td>Windows</td>\n",
              "      <td>...</td>\n",
              "      <td>3.7</td>\n",
              "      <td>1153</td>\n",
              "      <td>159</td>\n",
              "      <td>895</td>\n",
              "      <td>0.612</td>\n",
              "      <td>0.007</td>\n",
              "      <td>0.895</td>\n",
              "      <td>0.895</td>\n",
              "      <td>0.894</td>\n",
              "      <td>0.894</td>\n",
              "    </tr>\n",
              "    <tr>\n",
              "      <th>4</th>\n",
              "      <td>Avita</td>\n",
              "      <td>PURA</td>\n",
              "      <td>AMD</td>\n",
              "      <td>APU Dual</td>\n",
              "      <td>10th</td>\n",
              "      <td>4 GB GB</td>\n",
              "      <td>DDR4</td>\n",
              "      <td>256 GB</td>\n",
              "      <td>0 GB</td>\n",
              "      <td>Windows</td>\n",
              "      <td>...</td>\n",
              "      <td>3.7</td>\n",
              "      <td>1657</td>\n",
              "      <td>234</td>\n",
              "      <td>895</td>\n",
              "      <td>0.612</td>\n",
              "      <td>0.007</td>\n",
              "      <td>0.895</td>\n",
              "      <td>0.895</td>\n",
              "      <td>0.894</td>\n",
              "      <td>0.894</td>\n",
              "    </tr>\n",
              "    <tr>\n",
              "      <th>...</th>\n",
              "      <td>...</td>\n",
              "      <td>...</td>\n",
              "      <td>...</td>\n",
              "      <td>...</td>\n",
              "      <td>...</td>\n",
              "      <td>...</td>\n",
              "      <td>...</td>\n",
              "      <td>...</td>\n",
              "      <td>...</td>\n",
              "      <td>...</td>\n",
              "      <td>...</td>\n",
              "      <td>...</td>\n",
              "      <td>...</td>\n",
              "      <td>...</td>\n",
              "      <td>...</td>\n",
              "      <td>...</td>\n",
              "      <td>...</td>\n",
              "      <td>...</td>\n",
              "      <td>...</td>\n",
              "      <td>...</td>\n",
              "      <td>...</td>\n",
              "    </tr>\n",
              "    <tr>\n",
              "      <th>891</th>\n",
              "      <td>ASUS</td>\n",
              "      <td>ROG</td>\n",
              "      <td>AMD</td>\n",
              "      <td>Ryzen 9</td>\n",
              "      <td>Missing</td>\n",
              "      <td>4 GB GB</td>\n",
              "      <td>DDR4</td>\n",
              "      <td>1024 GB</td>\n",
              "      <td>0 GB</td>\n",
              "      <td>Windows</td>\n",
              "      <td>...</td>\n",
              "      <td>0.0</td>\n",
              "      <td>0</td>\n",
              "      <td>0</td>\n",
              "      <td>895</td>\n",
              "      <td>0.893</td>\n",
              "      <td>0.893</td>\n",
              "      <td>0.894</td>\n",
              "      <td>0.895</td>\n",
              "      <td>0.894</td>\n",
              "      <td>0.893</td>\n",
              "    </tr>\n",
              "    <tr>\n",
              "      <th>892</th>\n",
              "      <td>ASUS</td>\n",
              "      <td>Ryzen</td>\n",
              "      <td>AMD</td>\n",
              "      <td>Ryzen 9</td>\n",
              "      <td>Missing</td>\n",
              "      <td>4 GB GB</td>\n",
              "      <td>DDR4</td>\n",
              "      <td>1024 GB</td>\n",
              "      <td>0 GB</td>\n",
              "      <td>Windows</td>\n",
              "      <td>...</td>\n",
              "      <td>0.0</td>\n",
              "      <td>0</td>\n",
              "      <td>0</td>\n",
              "      <td>895</td>\n",
              "      <td>0.893</td>\n",
              "      <td>0.893</td>\n",
              "      <td>0.894</td>\n",
              "      <td>0.895</td>\n",
              "      <td>0.894</td>\n",
              "      <td>0.894</td>\n",
              "    </tr>\n",
              "    <tr>\n",
              "      <th>893</th>\n",
              "      <td>ASUS</td>\n",
              "      <td>Ryzen</td>\n",
              "      <td>AMD</td>\n",
              "      <td>Ryzen 9</td>\n",
              "      <td>Missing</td>\n",
              "      <td>4 GB GB</td>\n",
              "      <td>DDR4</td>\n",
              "      <td>1024 GB</td>\n",
              "      <td>0 GB</td>\n",
              "      <td>Windows</td>\n",
              "      <td>...</td>\n",
              "      <td>0.0</td>\n",
              "      <td>0</td>\n",
              "      <td>0</td>\n",
              "      <td>895</td>\n",
              "      <td>0.893</td>\n",
              "      <td>0.893</td>\n",
              "      <td>0.894</td>\n",
              "      <td>0.895</td>\n",
              "      <td>0.894</td>\n",
              "      <td>0.893</td>\n",
              "    </tr>\n",
              "    <tr>\n",
              "      <th>894</th>\n",
              "      <td>SAMSUNG</td>\n",
              "      <td>Galaxy</td>\n",
              "      <td>Qualcomm</td>\n",
              "      <td>Snapdragon 7c</td>\n",
              "      <td>Missing</td>\n",
              "      <td>4 GB GB</td>\n",
              "      <td>LPDDR4X</td>\n",
              "      <td>0 GB</td>\n",
              "      <td>512 GB</td>\n",
              "      <td>Windows</td>\n",
              "      <td>...</td>\n",
              "      <td>0.0</td>\n",
              "      <td>0</td>\n",
              "      <td>0</td>\n",
              "      <td>894</td>\n",
              "      <td>0.894</td>\n",
              "      <td>0.894</td>\n",
              "      <td>0.894</td>\n",
              "      <td>0.894</td>\n",
              "      <td>0.894</td>\n",
              "      <td>0.894</td>\n",
              "    </tr>\n",
              "    <tr>\n",
              "      <th>895</th>\n",
              "      <td>Lenovo</td>\n",
              "      <td>Thinkpad</td>\n",
              "      <td>AMD</td>\n",
              "      <td>Ryzen 5</td>\n",
              "      <td>10th</td>\n",
              "      <td>8 GB GB</td>\n",
              "      <td>DDR4</td>\n",
              "      <td>512 GB</td>\n",
              "      <td>0 GB</td>\n",
              "      <td>DOS</td>\n",
              "      <td>...</td>\n",
              "      <td>4.2</td>\n",
              "      <td>18</td>\n",
              "      <td>4</td>\n",
              "      <td>895</td>\n",
              "      <td>0.895</td>\n",
              "      <td>0.895</td>\n",
              "      <td>0.895</td>\n",
              "      <td>0.895</td>\n",
              "      <td>0.895</td>\n",
              "      <td>0.895</td>\n",
              "    </tr>\n",
              "  </tbody>\n",
              "</table>\n",
              "<p>896 rows × 30 columns</p>\n",
              "</div>\n",
              "      <button class=\"colab-df-convert\" onclick=\"convertToInteractive('df-45400909-574a-4ba8-9878-6fe7dce75b51')\"\n",
              "              title=\"Convert this dataframe to an interactive table.\"\n",
              "              style=\"display:none;\">\n",
              "        \n",
              "  <svg xmlns=\"http://www.w3.org/2000/svg\" height=\"24px\"viewBox=\"0 0 24 24\"\n",
              "       width=\"24px\">\n",
              "    <path d=\"M0 0h24v24H0V0z\" fill=\"none\"/>\n",
              "    <path d=\"M18.56 5.44l.94 2.06.94-2.06 2.06-.94-2.06-.94-.94-2.06-.94 2.06-2.06.94zm-11 1L8.5 8.5l.94-2.06 2.06-.94-2.06-.94L8.5 2.5l-.94 2.06-2.06.94zm10 10l.94 2.06.94-2.06 2.06-.94-2.06-.94-.94-2.06-.94 2.06-2.06.94z\"/><path d=\"M17.41 7.96l-1.37-1.37c-.4-.4-.92-.59-1.43-.59-.52 0-1.04.2-1.43.59L10.3 9.45l-7.72 7.72c-.78.78-.78 2.05 0 2.83L4 21.41c.39.39.9.59 1.41.59.51 0 1.02-.2 1.41-.59l7.78-7.78 2.81-2.81c.8-.78.8-2.07 0-2.86zM5.41 20L4 18.59l7.72-7.72 1.47 1.35L5.41 20z\"/>\n",
              "  </svg>\n",
              "      </button>\n",
              "      \n",
              "  <style>\n",
              "    .colab-df-container {\n",
              "      display:flex;\n",
              "      flex-wrap:wrap;\n",
              "      gap: 12px;\n",
              "    }\n",
              "\n",
              "    .colab-df-convert {\n",
              "      background-color: #E8F0FE;\n",
              "      border: none;\n",
              "      border-radius: 50%;\n",
              "      cursor: pointer;\n",
              "      display: none;\n",
              "      fill: #1967D2;\n",
              "      height: 32px;\n",
              "      padding: 0 0 0 0;\n",
              "      width: 32px;\n",
              "    }\n",
              "\n",
              "    .colab-df-convert:hover {\n",
              "      background-color: #E2EBFA;\n",
              "      box-shadow: 0px 1px 2px rgba(60, 64, 67, 0.3), 0px 1px 3px 1px rgba(60, 64, 67, 0.15);\n",
              "      fill: #174EA6;\n",
              "    }\n",
              "\n",
              "    [theme=dark] .colab-df-convert {\n",
              "      background-color: #3B4455;\n",
              "      fill: #D2E3FC;\n",
              "    }\n",
              "\n",
              "    [theme=dark] .colab-df-convert:hover {\n",
              "      background-color: #434B5C;\n",
              "      box-shadow: 0px 1px 3px 1px rgba(0, 0, 0, 0.15);\n",
              "      filter: drop-shadow(0px 1px 2px rgba(0, 0, 0, 0.3));\n",
              "      fill: #FFFFFF;\n",
              "    }\n",
              "  </style>\n",
              "\n",
              "      <script>\n",
              "        const buttonEl =\n",
              "          document.querySelector('#df-45400909-574a-4ba8-9878-6fe7dce75b51 button.colab-df-convert');\n",
              "        buttonEl.style.display =\n",
              "          google.colab.kernel.accessAllowed ? 'block' : 'none';\n",
              "\n",
              "        async function convertToInteractive(key) {\n",
              "          const element = document.querySelector('#df-45400909-574a-4ba8-9878-6fe7dce75b51');\n",
              "          const dataTable =\n",
              "            await google.colab.kernel.invokeFunction('convertToInteractive',\n",
              "                                                     [key], {});\n",
              "          if (!dataTable) return;\n",
              "\n",
              "          const docLinkHtml = 'Like what you see? Visit the ' +\n",
              "            '<a target=\"_blank\" href=https://colab.research.google.com/notebooks/data_table.ipynb>data table notebook</a>'\n",
              "            + ' to learn more about interactive tables.';\n",
              "          element.innerHTML = '';\n",
              "          dataTable['output_type'] = 'display_data';\n",
              "          await google.colab.output.renderOutput(dataTable, element);\n",
              "          const docLink = document.createElement('div');\n",
              "          docLink.innerHTML = docLinkHtml;\n",
              "          element.appendChild(docLink);\n",
              "        }\n",
              "      </script>\n",
              "    </div>\n",
              "  </div>\n",
              "  "
            ]
          },
          "metadata": {},
          "execution_count": 11
        }
      ]
    },
    {
      "cell_type": "markdown",
      "source": [
        "Импортирую библиотеки для будущей модели."
      ],
      "metadata": {
        "id": "imvDts17w7oi"
      }
    },
    {
      "cell_type": "code",
      "source": [
        "from sklearn.svm import SVC\n",
        "from sklearn import datasets\n",
        "from sklearn.model_selection import train_test_split\n",
        "from sklearn.preprocessing import StandardScaler\n",
        "from sklearn.linear_model import LinearRegression\n",
        "from sklearn.pipeline import make_pipeline"
      ],
      "metadata": {
        "id": "Y6aTJDZlLg5r"
      },
      "execution_count": null,
      "outputs": []
    },
    {
      "cell_type": "code",
      "source": [
        "import matplotlib.pyplot as plt"
      ],
      "metadata": {
        "id": "BBN_RLIdYVQX"
      },
      "execution_count": null,
      "outputs": []
    },
    {
      "cell_type": "code",
      "source": [
        "x = df['processor_name_num']\n",
        "y = df['display_size_num']\n",
        "processor_brand_num = df['processor_brand_num']\n",
        "display_size_num = df['display_size_num']  \n",
        "price = df['latest_price']\n",
        "processor_name_num =df['processor_name_num'] \n",
        "os_num = df['os_num']"
      ],
      "metadata": {
        "id": "8Ux7SDOTuDUq"
      },
      "execution_count": null,
      "outputs": []
    },
    {
      "cell_type": "markdown",
      "source": [
        "Решено было посмотреть какие процессоры используются с разными дисплеями, различным количеством оперативной памяти, а также какая ос более востребована с каким брендом процессора. Это нужно для выявления у каких моделей самые популярные ноутбуки."
      ],
      "metadata": {
        "id": "pAczk4LnyU5l"
      }
    },
    {
      "cell_type": "code",
      "source": [
        "plt.scatter(df['processor_name_num'], df['display_size_num'])\n",
        "plt.show()\n",
        "plt.scatter(df['processor_name_num'], df['ram_type_num'])\n",
        "plt.show()\n",
        "plt.scatter(df['processor_brand_num'], df['os_num'])\n",
        "plt.show()\n"
      ],
      "metadata": {
        "colab": {
          "base_uri": "https://localhost:8080/",
          "height": 761
        },
        "id": "TGc7te0jWiiO",
        "outputId": "252631c2-176d-4f71-b8c6-5ba23f617309"
      },
      "execution_count": null,
      "outputs": [
        {
          "output_type": "display_data",
          "data": {
            "text/plain": [
              "<Figure size 432x288 with 1 Axes>"
            ],
            "image/png": "[encoded data removed]"
          },
          "metadata": {
            "needs_background": "light"
          }
        },
        {
          "output_type": "display_data",
          "data": {
            "text/plain": [
              "<Figure size 432x288 with 1 Axes>"
            ],
            "image/png": "[encoded data removed]"
          },
          "metadata": {
            "needs_background": "light"
          }
        },
        {
          "output_type": "display_data",
          "data": {
            "text/plain": [
              "<Figure size 432x288 with 1 Axes>"
            ],
            "image/png": "[encoded data removed]"
          },
          "metadata": {
            "needs_background": "light"
          }
        }
      ]
    },
    {
      "cell_type": "code",
      "source": [
        "Lenovo_df = df[df['brand'] == 'Lenovo']\n",
        "Avita_df = df[df['brand'] == 'Avita']\n",
        "HP_df= df[df['brand'] == 'HP']\n",
        "acer_df= df[df['brand'] == 'acer']\n",
        "ASUS_df= df[df['brand'] == 'ASUS']\n",
        "DELL_df= df[df['brand'] == 'DELL']\n",
        "DELL_df= df[df['brand'] == 'DELL']"
      ],
      "metadata": {
        "id": "XVwSlWOFYe31"
      },
      "execution_count": null,
      "outputs": []
    },
    {
      "cell_type": "markdown",
      "source": [
        "Проведен анализ, для примерного понимания падения цены со временем на ноутбуки."
      ],
      "metadata": {
        "id": "dBuv42cc08By"
      }
    },
    {
      "cell_type": "code",
      "source": [
        "plt.scatter(Lenovo_df['latest_price'], Lenovo_df['old_price'], c='r', label='Lenovo')\n",
        "plt.scatter(Avita_df['latest_price'], Avita_df['old_price'], c='r', label='Avita')\n",
        "plt.scatter(HP_df['latest_price'], HP_df['old_price'], c='r', label='HP_df')\n",
        "plt.scatter(acer_df['latest_price'], acer_df['old_price'], c='r', label='acer_df')\n",
        "plt.legend()\n",
        "plt.xlabel('старая цена')\n",
        "plt.ylabel('Новая цена')\n",
        "plt.title('Интернет магазин')\n",
        "plt.show()"
      ],
      "metadata": {
        "colab": {
          "base_uri": "https://localhost:8080/",
          "height": 295
        },
        "id": "Aq_t4FbNbkEX",
        "outputId": "3b7f9aab-01ba-457b-9a56-e5e5b1ee0053"
      },
      "execution_count": null,
      "outputs": [
        {
          "output_type": "display_data",
          "data": {
            "text/plain": [
              "<Figure size 432x288 with 1 Axes>"
            ],
            "image/png": "[encoded data removed]"
          },
          "metadata": {
            "needs_background": "light"
          }
        }
      ]
    },
    {
      "cell_type": "markdown",
      "source": [
        "Импортирую KNeighborsClassifier"
      ],
      "metadata": {
        "id": "3Eqe0m0m7kf7"
      }
    },
    {
      "cell_type": "code",
      "source": [
        "from sklearn.neighbors import KNeighborsClassifier"
      ],
      "metadata": {
        "id": "HoO4zCyPji0R"
      },
      "execution_count": null,
      "outputs": []
    },
    {
      "cell_type": "markdown",
      "source": [
        "Признаки для будущей модели."
      ],
      "metadata": {
        "id": "cFTgcsZQ1xNh"
      }
    },
    {
      "cell_type": "code",
      "source": [
        "knn = KNeighborsClassifier()"
      ],
      "metadata": {
        "id": "P3IMUPBcjb8N"
      },
      "execution_count": null,
      "outputs": []
    },
    {
      "cell_type": "markdown",
      "source": [
        "Обучаю ИИ для понимания изменения цен различных брендов ноутбуков."
      ],
      "metadata": {
        "id": "W9mSs-iv8Bl_"
      }
    },
    {
      "cell_type": "code",
      "source": [
        "x = df[['brand_num', 'old_price']]\n",
        "y = df['latest_price']\n",
        "knn = knn.fit(x, y)"
      ],
      "metadata": {
        "id": "BB7PGpuBjkeV"
      },
      "execution_count": null,
      "outputs": []
    },
    {
      "cell_type": "code",
      "source": [
        "test = pd.DataFrame()\n",
        "test['old_price'] = [2]\n",
        "test['latest_price'] = [0.5]\n",
        "prediction = knn.predict(test)\n",
        "\n",
        "print(prediction)"
      ],
      "metadata": {
        "colab": {
          "base_uri": "https://localhost:8080/"
        },
        "id": "USTO5rgfkOVJ",
        "outputId": "bc798704-0156-4fb6-afce-08b7932381ff"
      },
      "execution_count": null,
      "outputs": [
        {
          "output_type": "stream",
          "name": "stdout",
          "text": [
            "[21896]\n"
          ]
        },
        {
          "output_type": "stream",
          "name": "stderr",
          "text": [
            "/usr/local/lib/python3.8/dist-packages/sklearn/base.py:493: FutureWarning: The feature names should match those that were passed during fit. Starting version 1.2, an error will be raised.\n",
            "Feature names unseen at fit time:\n",
            "- latest_price\n",
            "Feature names seen at fit time, yet now missing:\n",
            "- brand_num\n",
            "\n",
            "  warnings.warn(message, FutureWarning)\n"
          ]
        }
      ]
    },
    {
      "cell_type": "code",
      "source": [
        "from sklearn.svm import SVC\n",
        "clf = make_pipeline(StandardScaler(), SVC(gamma='auto'))\n",
        "clf.fit(x, y)"
      ],
      "metadata": {
        "colab": {
          "base_uri": "https://localhost:8080/"
        },
        "id": "8E43jnJLpn4c",
        "outputId": "e0d6fe18-e569-43b6-c5ae-0218a64c23b7"
      },
      "execution_count": null,
      "outputs": [
        {
          "output_type": "execute_result",
          "data": {
            "text/plain": [
              "Pipeline(steps=[('standardscaler', StandardScaler()),\n",
              "                ('svc', SVC(gamma='auto'))])"
            ]
          },
          "metadata": {},
          "execution_count": 22
        }
      ]
    },
    {
      "cell_type": "code",
      "source": [
        "clf = SVC() \n",
        "clf.fit(x, y)\n",
        "SVC()\n",
        "clf.support_vectors_\n",
        "clf.support_\n",
        "clf.n_support_"
      ],
      "metadata": {
        "colab": {
          "base_uri": "https://localhost:8080/"
        },
        "id": "OfgOhFPTpts8",
        "outputId": "08337c71-0e25-451b-991f-acb959eec9eb"
      },
      "execution_count": null,
      "outputs": [
        {
          "output_type": "execute_result",
          "data": {
            "text/plain": [
              "array([ 1,  1,  1,  1,  1,  1,  2,  1,  1,  2,  1,  1,  1,  4,  1,  3,  5,\n",
              "        3,  1,  1,  1,  2,  1,  2,  1,  1,  1,  1,  3,  1,  1,  1,  1,  1,\n",
              "        5,  1,  1,  3,  1,  1,  1,  3,  1,  9,  1,  2,  6,  1,  1,  1,  7,\n",
              "        1,  1,  1,  1,  1,  1,  1,  9,  2,  5,  1, 12,  1,  3,  1,  1,  2,\n",
              "        1,  1,  7,  1,  1,  1,  4,  1,  1,  1, 10,  1,  1,  1,  1,  6,  1,\n",
              "       11,  1,  1,  1,  2,  1,  1,  1,  2,  4,  1,  1,  1,  1,  4,  1,  1,\n",
              "        1,  1,  6,  3,  1,  1,  5,  1,  1,  1,  1,  4,  1,  5,  1,  2,  1,\n",
              "        1,  1, 10,  1,  1,  2,  1,  1,  1,  1, 10,  1,  4,  1,  1,  3,  1,\n",
              "        1,  1,  1,  1, 10,  1,  1,  1,  1,  5,  1,  1,  1, 14,  1,  5,  1,\n",
              "        9,  3,  2,  1,  1,  7,  1,  1,  1, 10,  4,  1,  1,  1,  1,  9,  1,\n",
              "        5,  1, 15,  4,  1,  1,  5,  1,  1,  1,  1,  1,  1,  5,  1,  1,  1,\n",
              "        1,  2,  1,  4,  1,  9,  1, 15,  1,  3,  8,  3,  2,  1,  1,  1,  3,\n",
              "        1,  1,  2,  1,  2,  1,  2,  1,  1,  3,  1,  1,  1,  1,  1,  2,  1,\n",
              "        1,  1,  1,  6,  1,  1,  1,  1,  1,  7,  2,  1,  1,  1,  1,  8,  1,\n",
              "        1,  1,  1,  1,  1,  4,  1,  1,  2,  3,  1,  1,  1,  1,  1,  1, 10,\n",
              "        1,  1,  1,  7,  2,  1,  1,  2,  1,  1, 13,  1,  1,  1,  1,  1,  3,\n",
              "        1,  1,  1,  7,  1,  1,  1,  1,  1,  1,  1, 10,  6,  1,  1,  4,  1,\n",
              "        3,  1,  2,  1,  1,  1,  4,  1,  1,  1,  1,  2,  1,  3,  1,  1,  1,\n",
              "        2,  1,  1,  5,  2,  1,  1,  1,  1,  1,  1, 15,  1,  1,  1,  1,  1,\n",
              "        3,  1,  1,  7,  2,  1,  1,  2,  1,  1,  1,  3,  1,  1,  1,  1,  1,\n",
              "        1,  4,  1,  7,  1,  1,  1,  2,  1,  6,  1,  1,  2,  1,  1,  4,  1,\n",
              "        1,  1,  1,  1,  4,  2,  1,  1,  1,  1,  1,  1,  2,  1,  2,  1,  1,\n",
              "        1,  4,  2,  2,  1,  1,  1,  1,  1,  1,  4,  1,  1,  3,  1,  1,  4,\n",
              "        1,  1,  2,  1,  1,  1,  2,  1,  1,  1,  1,  1,  5,  1,  1,  1,  2,\n",
              "        1,  1,  1,  1,  1,  3,  1,  1,  3,  1,  1,  1,  1,  1,  1,  1,  1,\n",
              "        1,  1,  1,  1], dtype=int32)"
            ]
          },
          "metadata": {},
          "execution_count": 23
        }
      ]
    },
    {
      "cell_type": "code",
      "source": [
        "sc = StandardScaler()\n",
        "x_sc = sc.fit_transform(x)\n",
        "x_train, x_test, y_train, y_test = train_test_split(x_sc, y, test_size=0.2, random_state=42)"
      ],
      "metadata": {
        "id": "nMn-RavMpwU0"
      },
      "execution_count": null,
      "outputs": []
    },
    {
      "cell_type": "code",
      "source": [
        "model = LinearRegression()\n",
        "model.fit(x_train, y_train)\n",
        "pred = model.predict(x_test)\n",
        "print(pred, y_test)"
      ],
      "metadata": {
        "colab": {
          "base_uri": "https://localhost:8080/"
        },
        "id": "_FD0vcqAp18B",
        "outputId": "84904120-ca01-4a71-e117-c7258e02f866"
      },
      "execution_count": null,
      "outputs": [
        {
          "output_type": "stream",
          "name": "stdout",
          "text": [
            "[ 49328.6044878   91662.7929441   72364.20317169  45744.61493458\n",
            "  53649.09477536  77726.3445169   79190.7299415   78406.2755183\n",
            "  42439.23795068  53633.77889717  54237.98613184  54431.52587953\n",
            "  68484.78195053  65785.20129077 131480.0536836   87469.38403823\n",
            " 101010.46580684  78914.02426803 141243.82792312  58467.43677447\n",
            "  68738.95976372 140543.16220353  49327.18316111  97164.68675822\n",
            "  92720.75981199 219790.76842914  45790.53468441 167732.4877633\n",
            "  56772.22470661  86865.17680357 112241.88065936  53597.73716041\n",
            "  97807.33972367  81685.86854452  58979.39373483  74119.71113474\n",
            "  36777.60501008  57554.6730755  111580.55968376  70738.85561083\n",
            "  71584.74573936  23387.37542733 250970.29537683  77726.3445169\n",
            "  78406.2755183   52425.36442785  54842.1933665  106989.11365853\n",
            "  47899.82214062 109825.05172071  88677.79850755  91040.21869546\n",
            "  95852.56155675  63486.17549817  74864.00193409 129165.72530223\n",
            "  55935.77836162  68716.81479335  38443.97891816  54823.59526659\n",
            " 126081.53331564 140543.16220353  80043.64702462  47591.70655056\n",
            "  59596.28932142  71098.67496143  54201.94439507  79022.53679804\n",
            "  82031.51892627 101366.15043545  73572.61764101  60827.15197218\n",
            "  89294.05978729  82031.51892627  91704.84665359 124875.82383652\n",
            "  71059.32624213  65935.04468497 111718.84789146  73572.61764101\n",
            "  74119.71113474  52554.05568453  80043.64702462  69053.11742612\n",
            "  54382.58509353  75814.19638199  98813.78121383  75832.32259903\n",
            "  69253.28840359  74726.6233596   51216.94995853  95152.6939315\n",
            " 143518.87885894  97740.90702748  53645.22873502  77283.24770167\n",
            "  23387.37542733  75937.67819008  72036.31207587  61560.58430602\n",
            "  98345.11426214 103575.94698992  61488.47294778  23429.45923644\n",
            " 112241.88065936  83427.20753873  23429.45923644 106103.34982781\n",
            "  69947.37423304  46032.82178551  89587.94530027  56494.92766082\n",
            "  83427.20753873  71161.22656747  53712.536535   145473.27856575\n",
            "  53796.88475092  72741.43918343 119613.17882261  65785.80549801\n",
            "  99499.11998073  65262.54476808  68605.64066217  56334.17446148\n",
            "  61017.16120512 187779.83903715  98458.77161169  53633.77889717\n",
            "  94115.66361951  23348.29760458  74787.04408306  58050.50368293\n",
            "  66322.13082507  67449.38366254  83127.14007532 100725.90146402\n",
            "  86810.76805283  83768.41686352  94019.20513458  56205.4783205\n",
            "  58027.18039772  66890.29632297  64875.24793066 118226.83926504\n",
            " 127951.26876056  79859.07565679 113978.7785966   23387.37542733\n",
            "  43966.46314259 167732.4877633  154118.48637661  23435.47120917\n",
            "  68732.52418145  61488.47294778  57754.44213795 121812.73792902\n",
            "  48133.89113736  55446.40060116  65421.86204542 113353.83664375\n",
            "  72364.20317169  23435.47120917  23348.29760458  64473.46738432\n",
            "  42819.67735669  47809.41458764 115252.25179976 117679.74577131\n",
            "  70915.31376846  76517.93004758  50612.74272386  77197.86104898\n",
            "  53570.53057014  94302.93776264  70915.31376846  90519.63285612\n",
            "  49404.32825454  55446.40060116  48800.12101988 116587.53252365] 711     34990\n",
            "440    100990\n",
            "525     57990\n",
            "722     34990\n",
            "39      39990\n",
            "        ...  \n",
            "845     84990\n",
            "25      35990\n",
            "84      41990\n",
            "10      34649\n",
            "331    111890\n",
            "Name: latest_price, Length: 180, dtype: int64\n"
          ]
        }
      ]
    },
    {
      "cell_type": "code",
      "source": [
        "x_test[0]"
      ],
      "metadata": {
        "colab": {
          "base_uri": "https://localhost:8080/"
        },
        "id": "ciW9zNfVp8Z5",
        "outputId": "b2442c94-587b-4b1e-e093-9f00049fab58"
      },
      "execution_count": null,
      "outputs": [
        {
          "output_type": "execute_result",
          "data": {
            "text/plain": [
              "array([ 0.16471752, -0.81049263])"
            ]
          },
          "metadata": {},
          "execution_count": 26
        }
      ]
    },
    {
      "cell_type": "code",
      "source": [
        "clf.support_vectors_\n",
        "clf.support_\n",
        "clf.n_support_"
      ],
      "metadata": {
        "colab": {
          "base_uri": "https://localhost:8080/"
        },
        "id": "Ap214jmgp_RG",
        "outputId": "440d9247-7baf-4613-e60d-09f4f17bd1ff"
      },
      "execution_count": null,
      "outputs": [
        {
          "output_type": "execute_result",
          "data": {
            "text/plain": [
              "array([ 1,  1,  1,  1,  1,  1,  2,  1,  1,  2,  1,  1,  1,  4,  1,  3,  5,\n",
              "        3,  1,  1,  1,  2,  1,  2,  1,  1,  1,  1,  3,  1,  1,  1,  1,  1,\n",
              "        5,  1,  1,  3,  1,  1,  1,  3,  1,  9,  1,  2,  6,  1,  1,  1,  7,\n",
              "        1,  1,  1,  1,  1,  1,  1,  9,  2,  5,  1, 12,  1,  3,  1,  1,  2,\n",
              "        1,  1,  7,  1,  1,  1,  4,  1,  1,  1, 10,  1,  1,  1,  1,  6,  1,\n",
              "       11,  1,  1,  1,  2,  1,  1,  1,  2,  4,  1,  1,  1,  1,  4,  1,  1,\n",
              "        1,  1,  6,  3,  1,  1,  5,  1,  1,  1,  1,  4,  1,  5,  1,  2,  1,\n",
              "        1,  1, 10,  1,  1,  2,  1,  1,  1,  1, 10,  1,  4,  1,  1,  3,  1,\n",
              "        1,  1,  1,  1, 10,  1,  1,  1,  1,  5,  1,  1,  1, 14,  1,  5,  1,\n",
              "        9,  3,  2,  1,  1,  7,  1,  1,  1, 10,  4,  1,  1,  1,  1,  9,  1,\n",
              "        5,  1, 15,  4,  1,  1,  5,  1,  1,  1,  1,  1,  1,  5,  1,  1,  1,\n",
              "        1,  2,  1,  4,  1,  9,  1, 15,  1,  3,  8,  3,  2,  1,  1,  1,  3,\n",
              "        1,  1,  2,  1,  2,  1,  2,  1,  1,  3,  1,  1,  1,  1,  1,  2,  1,\n",
              "        1,  1,  1,  6,  1,  1,  1,  1,  1,  7,  2,  1,  1,  1,  1,  8,  1,\n",
              "        1,  1,  1,  1,  1,  4,  1,  1,  2,  3,  1,  1,  1,  1,  1,  1, 10,\n",
              "        1,  1,  1,  7,  2,  1,  1,  2,  1,  1, 13,  1,  1,  1,  1,  1,  3,\n",
              "        1,  1,  1,  7,  1,  1,  1,  1,  1,  1,  1, 10,  6,  1,  1,  4,  1,\n",
              "        3,  1,  2,  1,  1,  1,  4,  1,  1,  1,  1,  2,  1,  3,  1,  1,  1,\n",
              "        2,  1,  1,  5,  2,  1,  1,  1,  1,  1,  1, 15,  1,  1,  1,  1,  1,\n",
              "        3,  1,  1,  7,  2,  1,  1,  2,  1,  1,  1,  3,  1,  1,  1,  1,  1,\n",
              "        1,  4,  1,  7,  1,  1,  1,  2,  1,  6,  1,  1,  2,  1,  1,  4,  1,\n",
              "        1,  1,  1,  1,  4,  2,  1,  1,  1,  1,  1,  1,  2,  1,  2,  1,  1,\n",
              "        1,  4,  2,  2,  1,  1,  1,  1,  1,  1,  4,  1,  1,  3,  1,  1,  4,\n",
              "        1,  1,  2,  1,  1,  1,  2,  1,  1,  1,  1,  1,  5,  1,  1,  1,  2,\n",
              "        1,  1,  1,  1,  1,  3,  1,  1,  3,  1,  1,  1,  1,  1,  1,  1,  1,\n",
              "        1,  1,  1,  1], dtype=int32)"
            ]
          },
          "metadata": {},
          "execution_count": 27
        }
      ]
    },
    {
      "cell_type": "code",
      "source": [
        "pred = model.predict(x_test)\n",
        "pred, y_test\n",
        "clf.support_vectors_"
      ],
      "metadata": {
        "colab": {
          "base_uri": "https://localhost:8080/"
        },
        "id": "N6AIDTJYqDQe",
        "outputId": "6ee9335c-2577-4e04-8245-4de410406d0d"
      },
      "execution_count": null,
      "outputs": [
        {
          "output_type": "execute_result",
          "data": {
            "text/plain": [
              "array([[6.83000e-01, 1.99990e+04],\n",
              "       [8.95000e-01, 2.48400e+04],\n",
              "       [6.12000e-01, 2.34900e+04],\n",
              "       ...,\n",
              "       [6.78000e-01, 3.29900e+05],\n",
              "       [6.51000e-01, 3.77798e+05],\n",
              "       [8.93000e-01, 0.00000e+00]])"
            ]
          },
          "metadata": {},
          "execution_count": 28
        }
      ]
    },
    {
      "cell_type": "code",
      "source": [
        "from sklearn.metrics import mean_absolute_percentage_error\n",
        "from sklearn.tree import DecisionTreeRegressor"
      ],
      "metadata": {
        "id": "RfntyojuqJnx"
      },
      "execution_count": null,
      "outputs": []
    },
    {
      "cell_type": "markdown",
      "source": [
        "Качество предсказанного."
      ],
      "metadata": {
        "id": "3IW-4uETAdig"
      }
    },
    {
      "cell_type": "code",
      "source": [
        "pred = model.predict(x_test)\n",
        "mean_absolute_percentage_error(y_test, pred) "
      ],
      "metadata": {
        "colab": {
          "base_uri": "https://localhost:8080/"
        },
        "id": "GV0D173qqWgh",
        "outputId": "55744cec-d15d-4a73-ad14-6b18371532d5"
      },
      "execution_count": null,
      "outputs": [
        {
          "output_type": "execute_result",
          "data": {
            "text/plain": [
              "0.23503986209115182"
            ]
          },
          "metadata": {},
          "execution_count": 30
        }
      ]
    },
    {
      "cell_type": "code",
      "source": [
        "modeltree = DecisionTreeRegressor(max_depth=2)\n",
        "modeltree.fit(x_train, y_train) "
      ],
      "metadata": {
        "colab": {
          "base_uri": "https://localhost:8080/"
        },
        "id": "qLBpWrI2qZAj",
        "outputId": "57e6a94d-f5f5-4077-b905-2b9b9549d367"
      },
      "execution_count": null,
      "outputs": [
        {
          "output_type": "execute_result",
          "data": {
            "text/plain": [
              "DecisionTreeRegressor(max_depth=2)"
            ]
          },
          "metadata": {},
          "execution_count": 31
        }
      ]
    },
    {
      "cell_type": "code",
      "source": [
        "predtree = modeltree.predict(x_test)\n",
        "mean_absolute_percentage_error(y_test, predtree)"
      ],
      "metadata": {
        "colab": {
          "base_uri": "https://localhost:8080/"
        },
        "id": "RaiwYlbvqaRb",
        "outputId": "8e5c1939-45ec-4fcf-ac94-ee7b35ae1f9a"
      },
      "execution_count": null,
      "outputs": [
        {
          "output_type": "execute_result",
          "data": {
            "text/plain": [
              "0.25815407421307035"
            ]
          },
          "metadata": {},
          "execution_count": 32
        }
      ]
    },
    {
      "cell_type": "code",
      "source": [
        "from sklearn.metrics import accuracy_score\n",
        "from sklearn.metrics import precision_score\n",
        "from sklearn.metrics import recall_score\n",
        "from sklearn.tree import plot_tree \n",
        "from sklearn.tree import DecisionTreeRegressor\n",
        "from sklearn import datasets\n",
        "\n",
        "from sklearn.linear_model import LogisticRegression\n",
        "from sklearn.model_selection import train_test_split\n",
        "from sklearn.metrics import precision_recall_curve\n",
        "from sklearn.metrics import plot_precision_recall_curve\n",
        "from sklearn.metrics import precision_score\n",
        "from sklearn.metrics import recall_score\n",
        "import matplotlib.pyplot as plt\n",
        "from sklearn import metrics"
      ],
      "metadata": {
        "id": "KT8tEVw7qc_i"
      },
      "execution_count": null,
      "outputs": []
    },
    {
      "cell_type": "code",
      "source": [
        "from sklearn.metrics import accuracy_score\n",
        "from sklearn.metrics import make_scorer\n",
        "scoring = {'accuracy': make_scorer(accuracy_score),\n",
        "           'prec': 'precision'}\n",
        "scoring"
      ],
      "metadata": {
        "colab": {
          "base_uri": "https://localhost:8080/"
        },
        "id": "psz6tx6AqgSH",
        "outputId": "bf84013d-4d2b-43e8-8dfe-3c16023bf99a"
      },
      "execution_count": null,
      "outputs": [
        {
          "output_type": "execute_result",
          "data": {
            "text/plain": [
              "{'accuracy': make_scorer(accuracy_score), 'prec': 'precision'}"
            ]
          },
          "metadata": {},
          "execution_count": 34
        }
      ]
    },
    {
      "cell_type": "code",
      "source": [
        "modeltree = DecisionTreeRegressor(max_depth=2)\n",
        "mean_absolute_percentage_error(y_test, predtree)"
      ],
      "metadata": {
        "colab": {
          "base_uri": "https://localhost:8080/"
        },
        "id": "46aRm720qjNu",
        "outputId": "3d9522ed-8bbc-4ac8-c217-16263a454a45"
      },
      "execution_count": null,
      "outputs": [
        {
          "output_type": "execute_result",
          "data": {
            "text/plain": [
              "0.25815407421307035"
            ]
          },
          "metadata": {},
          "execution_count": 35
        }
      ]
    },
    {
      "cell_type": "markdown",
      "source": [
        "2 модель."
      ],
      "metadata": {
        "id": "1vty4XcYIjEx"
      }
    },
    {
      "cell_type": "markdown",
      "source": [
        "Создаю экземпляр класса StandardScaler с именем scaler."
      ],
      "metadata": {
        "id": "87JYcUx-BWOv"
      }
    },
    {
      "cell_type": "code",
      "source": [
        "from sklearn.preprocessing import StandardScaler"
      ],
      "metadata": {
        "id": "m1Nv__CAImjc"
      },
      "execution_count": null,
      "outputs": []
    },
    {
      "cell_type": "code",
      "source": [
        "scaler = StandardScaler()"
      ],
      "metadata": {
        "id": "_AAZzvGUItdI"
      },
      "execution_count": null,
      "outputs": []
    },
    {
      "cell_type": "markdown",
      "source": [
        "Разделил вторую модель на обучающую и тестовую в процентах 70 на 30."
      ],
      "metadata": {
        "id": "GxmmIsM2Khb3"
      }
    },
    {
      "cell_type": "code",
      "source": [
        "x_training_data, x_test_data, y_training_data, y_test_data = train_test_split(x, y, test_size = 0.3)"
      ],
      "metadata": {
        "id": "QfjOEStwKEdA"
      },
      "execution_count": null,
      "outputs": []
    },
    {
      "cell_type": "markdown",
      "source": [
        "Обучение модели K-ближайших соседей"
      ],
      "metadata": {
        "id": "kI_wBd-LNvYL"
      }
    },
    {
      "cell_type": "markdown",
      "source": [
        "Начинаю с импорта KNeighborsClassifier"
      ],
      "metadata": {
        "id": "XaBB5VHwKs4l"
      }
    },
    {
      "cell_type": "code",
      "source": [
        "from sklearn.neighbors import KNeighborsClassifier"
      ],
      "metadata": {
        "id": "7-CAk_GbKoX_"
      },
      "execution_count": null,
      "outputs": []
    },
    {
      "cell_type": "markdown",
      "source": [
        "Называю вторую модель model2."
      ],
      "metadata": {
        "id": "hKfwAkL5K9D3"
      }
    },
    {
      "cell_type": "code",
      "source": [
        "model2 = KNeighborsClassifier(n_neighbors = 1)"
      ],
      "metadata": {
        "id": "hoZMNWFIK3di"
      },
      "execution_count": null,
      "outputs": []
    },
    {
      "cell_type": "code",
      "source": [
        "model2.fit(x_training_data, y_training_data)"
      ],
      "metadata": {
        "colab": {
          "base_uri": "https://localhost:8080/"
        },
        "id": "MahZGuXvLAL8",
        "outputId": "29a34c13-f2a1-4f4c-9f0c-b9cb53407a2e"
      },
      "execution_count": null,
      "outputs": [
        {
          "output_type": "execute_result",
          "data": {
            "text/plain": [
              "KNeighborsClassifier(n_neighbors=1)"
            ]
          },
          "metadata": {},
          "execution_count": 41
        }
      ]
    },
    {
      "cell_type": "code",
      "source": [
        "predictions = model.predict(x_test_data)"
      ],
      "metadata": {
        "colab": {
          "base_uri": "https://localhost:8080/"
        },
        "id": "ZlD5eBuPQdhL",
        "outputId": "c1e06ad6-429d-4142-8ea7-ab20d9ee2315"
      },
      "execution_count": null,
      "outputs": [
        {
          "output_type": "stream",
          "name": "stderr",
          "text": [
            "/usr/local/lib/python3.8/dist-packages/sklearn/base.py:443: UserWarning: X has feature names, but LinearRegression was fitted without feature names\n",
            "  warnings.warn(\n"
          ]
        }
      ]
    },
    {
      "cell_type": "markdown",
      "source": [
        "Оценка точности модели"
      ],
      "metadata": {
        "id": "twdYnn4EQg6d"
      }
    },
    {
      "cell_type": "code",
      "source": [
        "from sklearn.metrics import classification_report\n",
        "from sklearn.metrics import confusion_matrix"
      ],
      "metadata": {
        "id": "1LhMw6QZQel0"
      },
      "execution_count": null,
      "outputs": []
    },
    {
      "cell_type": "code",
      "source": [
        "print(y_test_data, predictions)"
      ],
      "metadata": {
        "colab": {
          "base_uri": "https://localhost:8080/"
        },
        "id": "AQEd4AbOQns0",
        "outputId": "204b6d68-96ef-4c54-f7a3-30bdc7851868"
      },
      "execution_count": null,
      "outputs": [
        {
          "output_type": "stream",
          "name": "stdout",
          "text": [
            "83      41998\n",
            "344    172090\n",
            "687     33990\n",
            "426     60990\n",
            "41      38990\n",
            "        ...  \n",
            "473    291190\n",
            "458     48990\n",
            "826     56990\n",
            "539    102990\n",
            "74      44427\n",
            "Name: latest_price, Length: 269, dtype: int64 [1.90418436e+09 6.05324775e+09 1.34563717e+09 3.15250367e+09\n",
            " 1.74970886e+09 2.79247613e+09 1.64846396e+09 9.41868038e+08\n",
            " 2.36114997e+09 1.43974900e+09 2.72215315e+09 6.32545544e+09\n",
            " 7.67982106e+04 7.39983596e+08 6.56132386e+09 3.46532374e+09\n",
            " 2.97895025e+09 2.62444104e+09 6.72952731e+09 2.70142633e+09\n",
            " 2.77935375e+09 2.21586041e+09 5.23009730e+09 4.23595061e+09\n",
            " 1.44994417e+09 3.02831103e+09 1.48052968e+09 3.79887055e+09\n",
            " 4.37424136e+09 4.13837309e+09 1.11010522e+09 2.20553065e+09\n",
            " 2.01888831e+09 2.01858557e+09 1.34563717e+09 2.01858558e+09\n",
            " 5.23965316e+09 2.79247626e+09 2.28342442e+09 2.22077283e+09\n",
            " 1.34563717e+09 2.62423916e+09 1.68746130e+09 3.40149458e+09\n",
            " 2.11952785e+09 1.86717218e+09 3.56670326e+09 7.68096816e+04\n",
            " 2.31838409e+09 2.01155326e+09 1.80997158e+09 3.44893744e+09\n",
            " 3.80287466e+09 2.22248895e+09 2.97851284e+09 6.56098739e+09\n",
            " 7.68137994e+04 1.68211138e+09 3.29718757e+09 1.68688930e+09\n",
            " 1.88399590e+09 3.42138019e+09 4.20597071e+09 1.97373357e+09\n",
            " 1.58116912e+09 2.52329690e+09 4.37390504e+09 1.44657943e+09\n",
            " 1.95933246e+09 1.69234019e+09 2.93305517e+09 6.49325513e+09\n",
            " 2.84967686e+09 2.99469726e+09 2.51801424e+09 2.52329676e+09\n",
            " 5.39005714e+09 2.11952785e+09 1.68211138e+09 2.35536244e+09\n",
            " 3.50051894e+09 1.68211138e+09 7.67982106e+04 3.83588278e+09\n",
            " 7.87089985e+08 2.27299373e+09 1.85748173e+09 1.14375265e+09\n",
            " 5.35607325e+09 1.61232662e+09 1.78305364e+09 1.91044276e+09\n",
            " 2.38870721e+09 2.65788658e+09 5.04685345e+09 4.03743082e+09\n",
            " 4.81132151e+09 2.25411753e+09 4.03776731e+09 1.36663315e+09\n",
            " 2.31024141e+09 2.23662087e+09 1.32201668e+09 5.48426992e+09\n",
            " 4.01899203e+09 2.18456831e+09 1.81367279e+09 3.09563952e+09\n",
            " 3.26354015e+09 2.79567276e+09 1.98493816e+09 3.73157571e+09\n",
            " 4.00041867e+09 3.52935478e+09 2.28776495e+09 5.34968024e+09\n",
            " 1.84341710e+09 2.29718623e+09 2.75882884e+09 1.94684927e+09\n",
            " 1.96125036e+09 4.65573583e+09 2.91697172e+09 2.20189673e+09\n",
            " 1.64880042e+09 4.17202051e+09 2.51821613e+09 1.85065113e+09\n",
            " 3.41613121e+09 2.48964948e+09 2.28577975e+09 2.53675587e+09\n",
            " 2.16326950e+09 4.46566155e+09 2.52329690e+09 8.36046979e+08\n",
            " 2.69153392e+09 3.11411194e+09 2.90559889e+09 1.68904274e+09\n",
            " 2.23964912e+09 6.05627607e+09 1.24048898e+09 4.74402667e+09\n",
            " 2.55724714e+09 4.09187236e+09 3.90284115e+09 1.84348440e+09\n",
            " 9.86146282e+09 4.17202051e+09 2.09597465e+09 5.51488901e+09\n",
            " 4.98265418e+09 5.13097201e+09 2.25411752e+09 1.45741389e+09\n",
            " 1.48022685e+09 4.17202051e+09 1.04281038e+09 7.68096816e+04\n",
            " 2.74853273e+09 1.24244053e+09 1.95129074e+09 8.36046979e+08\n",
            " 6.02293148e+09 4.64308440e+09 8.07209299e+09 4.37390504e+09\n",
            " 6.99840386e+09 5.19678635e+09 3.73157571e+09 4.77767409e+09\n",
            " 2.08588042e+09 3.36478523e+09 3.80223536e+09 2.63446797e+09\n",
            " 2.10341073e+09 2.32141237e+09 2.34651333e+09 1.74126354e+09\n",
            " 5.04382512e+09 9.41868038e+08 2.72518142e+09 4.37390504e+09\n",
            " 2.65788658e+09 2.65788657e+09 3.93648857e+09 1.51417709e+09\n",
            " 7.68082110e+04 3.97013598e+09 1.58116911e+09 2.03140524e+09\n",
            " 3.52935478e+09 2.75882884e+09 1.70435231e+09 1.64543569e+09\n",
            " 2.50310844e+09 5.48426992e+09 5.38817289e+09 3.99658286e+09\n",
            " 3.11582796e+09 7.68079189e+08 4.20263966e+09 3.26354015e+09\n",
            " 2.38870721e+09 4.74402667e+09 1.37928459e+09 2.35536244e+09\n",
            " 3.63366178e+09 2.59059174e+09 7.68137994e+04 1.95129074e+09\n",
            " 5.04715627e+09 2.10620347e+09 1.17740006e+09 2.18682269e+09\n",
            " 2.07242146e+09 3.43177726e+09 2.58806818e+09 4.13208102e+09\n",
            " 2.71579378e+09 2.02154654e+09 2.54826327e+09 4.60977346e+09\n",
            " 5.48426992e+09 3.62356756e+09 2.89341853e+09 3.81199311e+09\n",
            " 1.56098066e+09 3.96710766e+09 4.65684620e+09 1.92773755e+09\n",
            " 4.13837309e+09 1.74940622e+09 2.81155433e+09 1.88429865e+09\n",
            " 2.56044363e+09 5.09957896e+09 2.65788657e+09 2.69187048e+09\n",
            " 3.90284115e+09 2.08588041e+09 1.78305364e+09 5.82074413e+09\n",
            " 7.68143877e+04 3.14574053e+09 1.98493816e+09 1.84334980e+09\n",
            " 1.67571837e+09 4.37390504e+09 2.69153392e+09 2.82612368e+09\n",
            " 5.28238539e+09 4.64900635e+09 5.04685345e+09 7.68137994e+04\n",
            " 7.68096816e+04 2.40849188e+09 4.71068207e+09 2.45600205e+09\n",
            " 3.76488672e+09 7.68143877e+04 3.60001436e+09 1.10337574e+09\n",
            " 1.11370366e+10 2.36501941e+09 2.56030904e+09 3.86115199e+09\n",
            " 7.67982106e+04]\n"
          ]
        }
      ]
    },
    {
      "cell_type": "code",
      "source": [
        "print(y_test_data, predictions[0])"
      ],
      "metadata": {
        "colab": {
          "base_uri": "https://localhost:8080/"
        },
        "id": "cNRlfwF_Qygn",
        "outputId": "dcadb885-6283-4b45-d1fc-d90ade5bf59b"
      },
      "execution_count": null,
      "outputs": [
        {
          "output_type": "stream",
          "name": "stdout",
          "text": [
            "83      41998\n",
            "344    172090\n",
            "687     33990\n",
            "426     60990\n",
            "41      38990\n",
            "        ...  \n",
            "473    291190\n",
            "458     48990\n",
            "826     56990\n",
            "539    102990\n",
            "74      44427\n",
            "Name: latest_price, Length: 269, dtype: int64 1904184355.340414\n"
          ]
        }
      ]
    },
    {
      "cell_type": "code",
      "source": [
        "from sklearn.cluster import KMeans\n",
        "model2 = KMeans(n_clusters=4)\n",
        "model2.fit(x, y)"
      ],
      "metadata": {
        "colab": {
          "base_uri": "https://localhost:8080/"
        },
        "id": "ADogj2EBRBGb",
        "outputId": "bcba420a-1fb4-496d-d9c6-972eedd1513f"
      },
      "execution_count": null,
      "outputs": [
        {
          "output_type": "execute_result",
          "data": {
            "text/plain": [
              "KMeans(n_clusters=4)"
            ]
          },
          "metadata": {},
          "execution_count": 46
        }
      ]
    },
    {
      "cell_type": "markdown",
      "source": [
        "Прогнозы"
      ],
      "metadata": {
        "id": "Mhf_vePcRhL2"
      }
    },
    {
      "cell_type": "code",
      "source": [
        "model2.labels_"
      ],
      "metadata": {
        "colab": {
          "base_uri": "https://localhost:8080/"
        },
        "id": "4cbzQ4IZRfOR",
        "outputId": "eb659d13-750f-4a50-919c-b58480d29503"
      },
      "execution_count": null,
      "outputs": [
        {
          "output_type": "execute_result",
          "data": {
            "text/plain": [
              "array([2, 2, 2, 2, 2, 2, 2, 2, 2, 2, 2, 2, 2, 2, 2, 2, 2, 0, 2, 0, 0, 3,\n",
              "       0, 2, 2, 2, 2, 0, 2, 2, 2, 2, 2, 2, 2, 2, 2, 2, 2, 2, 2, 2, 2, 2,\n",
              "       2, 2, 2, 2, 2, 2, 2, 2, 2, 2, 2, 0, 2, 2, 2, 2, 2, 2, 0, 2, 2, 2,\n",
              "       2, 2, 2, 2, 2, 2, 2, 2, 2, 2, 2, 2, 2, 2, 2, 0, 2, 2, 2, 2, 2, 2,\n",
              "       2, 2, 2, 2, 2, 2, 2, 2, 2, 2, 2, 2, 2, 2, 2, 2, 2, 2, 2, 2, 0, 2,\n",
              "       2, 2, 2, 2, 2, 2, 2, 0, 2, 2, 0, 2, 2, 2, 2, 0, 2, 2, 2, 2, 2, 2,\n",
              "       2, 2, 2, 2, 2, 2, 2, 2, 2, 2, 2, 2, 0, 2, 2, 2, 2, 2, 2, 2, 2, 2,\n",
              "       2, 2, 2, 2, 2, 2, 2, 2, 2, 2, 2, 2, 2, 2, 2, 2, 2, 2, 2, 2, 2, 2,\n",
              "       2, 2, 2, 2, 2, 2, 2, 2, 2, 2, 2, 2, 2, 2, 2, 2, 2, 2, 2, 2, 2, 2,\n",
              "       2, 2, 2, 2, 2, 2, 2, 2, 2, 2, 2, 2, 2, 2, 2, 3, 0, 0, 0, 0, 0, 3,\n",
              "       2, 2, 0, 2, 0, 2, 2, 2, 2, 0, 3, 0, 0, 0, 2, 0, 0, 0, 0, 3, 2, 2,\n",
              "       0, 0, 0, 0, 0, 0, 0, 0, 0, 0, 0, 2, 0, 0, 0, 0, 0, 0, 2, 0, 2, 0,\n",
              "       0, 3, 0, 0, 0, 0, 0, 0, 2, 0, 0, 0, 0, 0, 0, 0, 0, 0, 0, 2, 2, 0,\n",
              "       0, 0, 0, 0, 0, 2, 0, 0, 0, 0, 0, 0, 0, 0, 0, 0, 0, 3, 0, 2, 0, 2,\n",
              "       0, 0, 0, 2, 0, 0, 0, 2, 0, 3, 0, 0, 0, 2, 0, 3, 0, 3, 0, 0, 0, 0,\n",
              "       0, 3, 0, 0, 0, 0, 0, 0, 0, 0, 0, 0, 0, 3, 3, 0, 2, 2, 2, 0, 3, 0,\n",
              "       0, 2, 0, 2, 0, 3, 0, 0, 0, 0, 0, 0, 0, 0, 0, 0, 0, 0, 0, 0, 2, 0,\n",
              "       3, 0, 0, 0, 0, 0, 2, 0, 0, 2, 0, 0, 0, 0, 0, 0, 0, 0, 0, 0, 0, 0,\n",
              "       0, 0, 3, 1, 3, 3, 0, 2, 0, 0, 3, 3, 3, 0, 0, 0, 0, 0, 0, 0, 0, 0,\n",
              "       2, 2, 3, 0, 0, 0, 3, 0, 0, 0, 0, 0, 0, 0, 0, 0, 0, 0, 0, 0, 0, 0,\n",
              "       0, 0, 0, 2, 0, 0, 3, 3, 3, 0, 3, 0, 0, 0, 2, 3, 2, 2, 0, 2, 2, 0,\n",
              "       0, 2, 2, 2, 2, 0, 2, 2, 0, 0, 2, 1, 2, 3, 0, 2, 2, 0, 2, 2, 0, 0,\n",
              "       0, 0, 0, 2, 2, 0, 0, 0, 0, 0, 0, 2, 0, 0, 0, 0, 0, 0, 0, 0, 0, 0,\n",
              "       0, 0, 0, 0, 0, 2, 0, 0, 0, 0, 2, 1, 0, 0, 0, 0, 0, 0, 0, 0, 0, 0,\n",
              "       0, 2, 0, 3, 0, 0, 0, 0, 0, 0, 0, 0, 3, 0, 0, 0, 0, 0, 3, 0, 0, 2,\n",
              "       0, 3, 0, 0, 0, 3, 3, 0, 2, 3, 0, 0, 0, 3, 0, 2, 0, 2, 3, 3, 3, 3,\n",
              "       3, 0, 0, 0, 3, 3, 3, 3, 3, 3, 2, 3, 2, 3, 3, 3, 1, 1, 3, 3, 3, 3,\n",
              "       3, 3, 3, 3, 0, 1, 3, 0, 3, 3, 3, 1, 3, 3, 3, 3, 3, 3, 0, 3, 3, 3,\n",
              "       1, 3, 2, 2, 2, 0, 0, 0, 3, 3, 2, 3, 3, 3, 3, 3, 1, 1, 3, 1, 2, 2,\n",
              "       0, 2, 2, 3, 0, 2, 2, 3, 2, 3, 0, 1, 1, 1, 0, 0, 0, 0, 0, 0, 0, 3,\n",
              "       0, 0, 3, 3, 0, 0, 0, 3, 3, 3, 1, 3, 0, 3, 3, 1, 1, 1, 1, 3, 2, 2,\n",
              "       2, 2, 0, 0, 2, 2, 2, 2, 2, 2, 2, 2, 2, 2, 2, 2, 0, 2, 2, 2, 2, 2,\n",
              "       2, 2, 2, 2, 2, 2, 2, 2, 2, 2, 2, 2, 2, 2, 2, 2, 2, 2, 2, 2, 2, 2,\n",
              "       2, 2, 0, 2, 2, 2, 2, 0, 2, 0, 0, 0, 2, 2, 2, 0, 0, 2, 0, 0, 2, 0,\n",
              "       0, 0, 2, 0, 2, 0, 0, 2, 0, 0, 0, 0, 2, 0, 0, 2, 2, 0, 0, 0, 0, 0,\n",
              "       0, 0, 0, 0, 2, 2, 2, 0, 0, 0, 0, 2, 2, 2, 2, 2, 2, 0, 2, 2, 0, 2,\n",
              "       0, 2, 0, 0, 0, 0, 0, 2, 0, 0, 0, 0, 0, 0, 2, 0, 2, 0, 0, 3, 0, 0,\n",
              "       3, 3, 0, 0, 3, 3, 3, 0, 0, 2, 0, 0, 0, 2, 0, 0, 0, 0, 0, 3, 3, 0,\n",
              "       0, 0, 3, 0, 0, 0, 0, 0, 0, 0, 3, 0, 0, 0, 3, 3, 3, 0, 3, 0, 3, 3,\n",
              "       3, 0, 3, 3, 3, 0, 0, 0, 0, 0, 3, 3, 1, 3, 3, 3, 3, 3, 3, 3, 3, 3,\n",
              "       3, 3, 3, 3, 3, 2, 3, 3, 3, 1, 3, 3, 2, 2, 2, 0], dtype=int32)"
            ]
          },
          "metadata": {},
          "execution_count": 47
        }
      ]
    },
    {
      "cell_type": "code",
      "source": [
        "model2.cluster_centers_"
      ],
      "metadata": {
        "colab": {
          "base_uri": "https://localhost:8080/"
        },
        "id": "QSvBNbE7Rrw2",
        "outputId": "7e14c10a-9d42-4423-ef14-cc943076ab5d"
      },
      "execution_count": null,
      "outputs": [
        {
          "output_type": "execute_result",
          "data": {
            "text/plain": [
              "array([[8.46719895e-01, 9.18418168e+04],\n",
              "       [7.81285714e-01, 2.96280714e+05],\n",
              "       [8.55283708e-01, 4.34147247e+04],\n",
              "       [8.55182482e-01, 1.62095555e+05]])"
            ]
          },
          "metadata": {},
          "execution_count": 48
        }
      ]
    },
    {
      "cell_type": "markdown",
      "source": [
        "Примерная точность"
      ],
      "metadata": {
        "id": "2sjhsVEK1o9A"
      }
    },
    {
      "cell_type": "code",
      "source": [
        "pred = model2.predict(x_test)\n",
        "mean_absolute_percentage_error(y_test, pred) "
      ],
      "metadata": {
        "colab": {
          "base_uri": "https://localhost:8080/"
        },
        "id": "jBUW4I5c1Ns-",
        "outputId": "3c445503-36d9-486d-c430-fa8ec1b03c19"
      },
      "execution_count": null,
      "outputs": [
        {
          "output_type": "stream",
          "name": "stderr",
          "text": [
            "/usr/local/lib/python3.8/dist-packages/sklearn/base.py:450: UserWarning: X does not have valid feature names, but KMeans was fitted with feature names\n",
            "  warnings.warn(\n"
          ]
        },
        {
          "output_type": "execute_result",
          "data": {
            "text/plain": [
              "0.9999665541673974"
            ]
          },
          "metadata": {},
          "execution_count": 68
        }
      ]
    },
    {
      "cell_type": "code",
      "source": [
        "modeltree = DecisionTreeRegressor(max_depth=2)\n",
        "modeltree.fit(x_train, y_train) "
      ],
      "metadata": {
        "colab": {
          "base_uri": "https://localhost:8080/"
        },
        "outputId": "5ec5d2ff-d640-449e-88a8-9a9c0e37d79a",
        "id": "6SwpZnFj10mc"
      },
      "execution_count": null,
      "outputs": [
        {
          "output_type": "execute_result",
          "data": {
            "text/plain": [
              "DecisionTreeRegressor(max_depth=2)"
            ]
          },
          "metadata": {},
          "execution_count": 66
        }
      ]
    },
    {
      "cell_type": "code",
      "source": [
        "predtree = modeltree.predict(x_test)\n",
        "mean_absolute_percentage_error(y_test, predtree)"
      ],
      "metadata": {
        "colab": {
          "base_uri": "https://localhost:8080/"
        },
        "id": "GRZV24Uf10eU",
        "outputId": "b6137f12-68e1-40dd-8a68-b0102aab43d1"
      },
      "execution_count": null,
      "outputs": [
        {
          "output_type": "execute_result",
          "data": {
            "text/plain": [
              "0.3021041349941723"
            ]
          },
          "metadata": {},
          "execution_count": 67
        }
      ]
    },
    {
      "cell_type": "markdown",
      "source": [
        "Выбираю оптимальные значения методом локтя."
      ],
      "metadata": {
        "id": "VWiFGnl8Dpcu"
      }
    },
    {
      "cell_type": "code",
      "source": [
        "error_rates = []\n",
        "for i in np.arange(1, 101):\n",
        "    new_model = KNeighborsClassifier(n_neighbors = i)\n",
        "    new_model.fit(x_training_data, y_training_data)\n",
        "    new_predictions = new_model.predict(x_test_data)\n",
        "    error_rates.append(np.mean(new_predictions != y_test_data))\n",
        "\n",
        "plt.plot(error_rates)"
      ],
      "metadata": {
        "colab": {
          "base_uri": "https://localhost:8080/",
          "height": 282
        },
        "id": "EnZJIJzAC8LW",
        "outputId": "f6d0b2a8-5511-4eec-adf8-6755bc0ee52b"
      },
      "execution_count": null,
      "outputs": [
        {
          "output_type": "execute_result",
          "data": {
            "text/plain": [
              "[<matplotlib.lines.Line2D at 0x7f347df39af0>]"
            ]
          },
          "metadata": {},
          "execution_count": 50
        },
        {
          "output_type": "display_data",
          "data": {
            "text/plain": [
              "<Figure size 432x288 with 1 Axes>"
            ],
            "image/png": "[encoded data removed]"
          },
          "metadata": {
            "needs_background": "light"
          }
        }
      ]
    },
    {
      "cell_type": "markdown",
      "source": [
        "Модель 3. Предсказание цен."
      ],
      "metadata": {
        "id": "hncNQJDq7w49"
      }
    },
    {
      "cell_type": "markdown",
      "source": [
        "Также была построена модель для предсказания цен конкурентов на характеристики."
      ],
      "metadata": {
        "id": "jfstkWK26Jcv"
      }
    },
    {
      "cell_type": "markdown",
      "source": [
        "Была взята настоящая цена, бренд и характеристики ноутбука.Что бы предсказать какие характеристики продавать за какую цену."
      ],
      "metadata": {
        "id": "85baAq5_6SKF"
      }
    },
    {
      "cell_type": "code",
      "source": [
        "x = df[['brand_num', 'processor_name_num']]\n",
        "y = df['latest_price']\n",
        "knn = knn.fit(x, y)"
      ],
      "metadata": {
        "id": "sqdq0rJr3G3H"
      },
      "execution_count": null,
      "outputs": []
    },
    {
      "cell_type": "code",
      "source": [
        "test = pd.DataFrame()\n",
        "test['processor_name_num'] = [2]\n",
        "test['latest_price'] = [0.5]\n",
        "prediction = knn.predict(test)\n",
        "\n",
        "print(prediction)"
      ],
      "metadata": {
        "colab": {
          "base_uri": "https://localhost:8080/"
        },
        "id": "p0J1082-3lj0",
        "outputId": "29881ba2-1272-406e-975a-f327c8fe481f"
      },
      "execution_count": null,
      "outputs": [
        {
          "output_type": "stream",
          "name": "stdout",
          "text": [
            "[46990]\n"
          ]
        },
        {
          "output_type": "stream",
          "name": "stderr",
          "text": [
            "/usr/local/lib/python3.8/dist-packages/sklearn/base.py:493: FutureWarning: The feature names should match those that were passed during fit. Starting version 1.2, an error will be raised.\n",
            "Feature names unseen at fit time:\n",
            "- latest_price\n",
            "Feature names seen at fit time, yet now missing:\n",
            "- brand_num\n",
            "\n",
            "  warnings.warn(message, FutureWarning)\n"
          ]
        }
      ]
    },
    {
      "cell_type": "code",
      "source": [
        "from sklearn.svm import SVC\n",
        "clf = make_pipeline(StandardScaler(), SVC(gamma='auto'))\n",
        "clf.fit(x, y)"
      ],
      "metadata": {
        "colab": {
          "base_uri": "https://localhost:8080/"
        },
        "id": "iMBlwTpQ3yyF",
        "outputId": "bd64f8a0-7a02-4ac7-afd5-19e70975c239"
      },
      "execution_count": null,
      "outputs": [
        {
          "output_type": "execute_result",
          "data": {
            "text/plain": [
              "Pipeline(steps=[('standardscaler', StandardScaler()),\n",
              "                ('svc', SVC(gamma='auto'))])"
            ]
          },
          "metadata": {},
          "execution_count": 53
        }
      ]
    },
    {
      "cell_type": "code",
      "source": [
        "clf = SVC() \n",
        "clf.fit(x, y)\n",
        "SVC()\n",
        "clf.support_vectors_\n",
        "clf.support_\n",
        "clf.n_support_"
      ],
      "metadata": {
        "colab": {
          "base_uri": "https://localhost:8080/"
        },
        "id": "g0mh8OOA34BE",
        "outputId": "8d9b7b43-f3a9-4e92-8e68-461daf221a21"
      },
      "execution_count": null,
      "outputs": [
        {
          "output_type": "execute_result",
          "data": {
            "text/plain": [
              "array([ 1,  1,  1,  1,  1,  1,  2,  1,  1,  2,  1,  1,  1,  4,  1,  3,  5,\n",
              "        3,  1,  1,  1,  2,  1,  2,  1,  1,  1,  1,  3,  1,  1,  1,  1,  1,\n",
              "        5,  1,  1,  3,  1,  1,  1,  3,  1,  9,  1,  2,  6,  1,  1,  1,  7,\n",
              "        1,  1,  1,  1,  1,  1,  1,  9,  2,  5,  1, 12,  1,  3,  1,  1,  2,\n",
              "        1,  1,  7,  1,  1,  1,  4,  1,  1,  1, 10,  1,  1,  1,  1,  6,  1,\n",
              "       11,  1,  1,  1,  2,  1,  1,  1,  2,  4,  1,  1,  1,  1,  4,  1,  1,\n",
              "        1,  1,  6,  3,  1,  1,  5,  1,  1,  1,  1,  4,  1,  5,  1,  2,  1,\n",
              "        1,  1, 10,  1,  1,  2,  1,  1,  1,  1, 10,  1,  4,  1,  1,  3,  1,\n",
              "        1,  1,  1,  1, 10,  1,  1,  1,  1,  5,  1,  1,  1, 14,  1,  5,  1,\n",
              "        9,  3,  2,  1,  1,  7,  1,  1,  1, 10,  4,  1,  1,  1,  1,  9,  1,\n",
              "        5,  1, 15,  4,  1,  1,  5,  1,  1,  1,  1,  1,  1,  5,  1,  1,  1,\n",
              "        1,  2,  1,  4,  1,  9,  1, 15,  1,  3,  8,  3,  2,  1,  1,  1,  3,\n",
              "        1,  1,  2,  1,  2,  1,  2,  1,  1,  3,  1,  1,  1,  1,  1,  2,  1,\n",
              "        1,  1,  1,  6,  1,  1,  1,  1,  1,  7,  2,  1,  1,  1,  1,  7,  1,\n",
              "        1,  1,  1,  1,  1,  4,  1,  1,  2,  3,  1,  1,  1,  1,  1,  1, 10,\n",
              "        1,  1,  1,  7,  2,  1,  1,  2,  1,  1, 13,  1,  1,  1,  1,  1,  3,\n",
              "        1,  1,  1,  7,  1,  1,  1,  1,  1,  1,  1, 10,  6,  1,  1,  4,  1,\n",
              "        3,  1,  2,  1,  1,  1,  4,  1,  1,  1,  1,  2,  1,  3,  1,  1,  1,\n",
              "        2,  1,  1,  5,  2,  1,  1,  1,  1,  1,  1, 15,  1,  1,  1,  1,  1,\n",
              "        3,  1,  1,  7,  2,  1,  1,  2,  1,  1,  1,  3,  1,  1,  1,  1,  1,\n",
              "        1,  4,  1,  7,  1,  1,  1,  2,  1,  6,  1,  1,  2,  1,  1,  4,  1,\n",
              "        1,  1,  1,  1,  4,  2,  1,  1,  1,  1,  1,  1,  2,  1,  2,  1,  1,\n",
              "        1,  4,  2,  2,  1,  1,  1,  1,  1,  1,  4,  1,  1,  3,  1,  1,  4,\n",
              "        1,  1,  2,  1,  1,  1,  2,  1,  1,  1,  1,  1,  5,  1,  1,  1,  2,\n",
              "        1,  1,  1,  1,  1,  3,  1,  1,  3,  1,  1,  1,  1,  1,  1,  1,  1,\n",
              "        1,  1,  1,  1], dtype=int32)"
            ]
          },
          "metadata": {},
          "execution_count": 54
        }
      ]
    },
    {
      "cell_type": "code",
      "source": [
        "sc = StandardScaler()\n",
        "x_sc = sc.fit_transform(x)\n",
        "x_train, x_test, y_train, y_test = train_test_split(x_sc, y, test_size=0.2, random_state=42)"
      ],
      "metadata": {
        "id": "fQj2sbxr4FvR"
      },
      "execution_count": null,
      "outputs": []
    },
    {
      "cell_type": "code",
      "source": [
        "model = LinearRegression()\n",
        "model.fit(x_train, y_train)\n",
        "pred = model.predict(x_test)\n",
        "print(pred, y_test)"
      ],
      "metadata": {
        "colab": {
          "base_uri": "https://localhost:8080/"
        },
        "id": "i6GDN9vz4Q_9",
        "outputId": "cab5f15c-c4a4-4cba-814a-151cdd0c1c2e"
      },
      "execution_count": null,
      "outputs": [
        {
          "output_type": "stream",
          "name": "stdout",
          "text": [
            "[84955.12265976 79035.579843   78885.42832474 84499.71606879\n",
            " 48507.00636549 79239.72762516 79648.02318948 78815.72838529\n",
            " 49064.60588106 48287.15490778 48287.15490778 85363.41822408\n",
            " 79648.02318948 79035.579843   82192.01862868 94498.21476072\n",
            " 79717.72312892 84701.21644875 96310.41318633 48287.15490778\n",
            " 78815.72838529 82192.01862868 49119.44971197 79717.72312892\n",
            " 79105.27978245 78885.42832474 48813.34707225 84701.21644875\n",
            " 49119.44971197 78815.72838529 78885.42832474 48507.00636549\n",
            " 96418.40571412 86965.93599609 49119.44971197 79183.7981602\n",
            " 53257.48725309 49119.44971197 94796.58459618 96418.40571412\n",
            " 48255.74755668 79035.579843   85194.91562807 96873.81230509\n",
            " 78815.72838529 48287.15490778 48287.15490778 79035.579843\n",
            " 48813.34707225 96310.41318633 78815.72838529 94466.80740962\n",
            " 79239.72762516 97282.1078694  79648.02318948 78885.42832474\n",
            " 48255.74755668 79035.579843   48813.34707225 57882.10066924\n",
            " 79114.09822075 82192.01862868 78784.32103419 48287.15490778\n",
            " 49119.44971197 94796.58459618 48507.00636549 78784.32103419\n",
            " 78885.42832474 78885.42832474 78815.72838529 79114.09822075\n",
            " 78784.32103419 94498.21476072 94466.80740962 78854.02097363\n",
            " 96669.66452293 96669.66452293 79035.579843   78815.72838529\n",
            " 79114.09822075 53956.18178158 78784.32103419 78784.32103419\n",
            " 49119.44971197 78784.32103419 79239.72762516 78784.32103419\n",
            " 95283.39853825 78784.32103419 48287.15490778 79105.27978245\n",
            " 79105.27978245 78815.72838529 48255.74755668 79648.02318948\n",
            " 79105.27978245 79648.02318948 79648.02318948 79035.579843\n",
            " 94498.21476072 79105.27978245 78815.72838529 96310.41318633\n",
            " 78885.42832474 78784.32103419 78885.42832474 84701.21644875\n",
            " 78815.72838529 48813.34707225 94718.06621843 82835.86932626\n",
            " 78854.02097363 78815.72838529 79035.579843   96310.41318633\n",
            " 48255.74755668 79035.579843   78784.32103419 96669.66452293\n",
            " 78854.02097363 79648.02318948 79035.579843   49119.44971197\n",
            " 96418.40571412 78854.02097363 99040.91953108 48287.15490778\n",
            " 96449.81306522 96873.81230509 78784.32103419 48255.74755668\n",
            " 78815.72838529 96873.81230509 95330.50956491 94718.06621843\n",
            " 78784.32103419 79239.72762516 84701.21644875 49119.44971197\n",
            " 96669.66452293 94718.06621843 79648.02318948 79183.7981602\n",
            " 96310.41318633 79114.09822075 49338.45360267 48507.00636549\n",
            " 48844.75442335 84701.21644875 79105.27978245 78854.02097363\n",
            " 96669.66452293 48287.15490778 48255.74755668 84701.21644875\n",
            " 84750.9748776  48287.15490778 82509.82517595 84701.21644875\n",
            " 78815.72838529 94466.80740962 79239.72762516 79035.579843\n",
            " 38968.99966659 49119.44971197 79035.579843   96310.41318633\n",
            " 83298.16115447 79239.72762516 48287.15490778 78815.72838529\n",
            " 85363.41822408 94466.80740962 83228.46121503 94718.06621843\n",
            " 48287.15490778 48287.15490778 48287.15490778 79648.02318948] 711     34990\n",
            "440    100990\n",
            "525     57990\n",
            "722     34990\n",
            "39      39990\n",
            "        ...  \n",
            "845     84990\n",
            "25      35990\n",
            "84      41990\n",
            "10      34649\n",
            "331    111890\n",
            "Name: latest_price, Length: 180, dtype: int64\n"
          ]
        }
      ]
    },
    {
      "cell_type": "code",
      "source": [
        "x_test[0]"
      ],
      "metadata": {
        "colab": {
          "base_uri": "https://localhost:8080/"
        },
        "id": "DmraOb4e4aiP",
        "outputId": "58db6aa3-266c-4a82-8c4b-2b868dae0278"
      },
      "execution_count": null,
      "outputs": [
        {
          "output_type": "execute_result",
          "data": {
            "text/plain": [
              "array([0.16471752, 0.5673501 ])"
            ]
          },
          "metadata": {},
          "execution_count": 57
        }
      ]
    },
    {
      "cell_type": "code",
      "source": [
        "clf.support_vectors_\n",
        "clf.support_\n",
        "clf.n_support_"
      ],
      "metadata": {
        "colab": {
          "base_uri": "https://localhost:8080/"
        },
        "id": "WId9dzsB4ihq",
        "outputId": "710a0cd6-22c7-4638-9a6c-bb1034b8a6ab"
      },
      "execution_count": null,
      "outputs": [
        {
          "output_type": "execute_result",
          "data": {
            "text/plain": [
              "array([ 1,  1,  1,  1,  1,  1,  2,  1,  1,  2,  1,  1,  1,  4,  1,  3,  5,\n",
              "        3,  1,  1,  1,  2,  1,  2,  1,  1,  1,  1,  3,  1,  1,  1,  1,  1,\n",
              "        5,  1,  1,  3,  1,  1,  1,  3,  1,  9,  1,  2,  6,  1,  1,  1,  7,\n",
              "        1,  1,  1,  1,  1,  1,  1,  9,  2,  5,  1, 12,  1,  3,  1,  1,  2,\n",
              "        1,  1,  7,  1,  1,  1,  4,  1,  1,  1, 10,  1,  1,  1,  1,  6,  1,\n",
              "       11,  1,  1,  1,  2,  1,  1,  1,  2,  4,  1,  1,  1,  1,  4,  1,  1,\n",
              "        1,  1,  6,  3,  1,  1,  5,  1,  1,  1,  1,  4,  1,  5,  1,  2,  1,\n",
              "        1,  1, 10,  1,  1,  2,  1,  1,  1,  1, 10,  1,  4,  1,  1,  3,  1,\n",
              "        1,  1,  1,  1, 10,  1,  1,  1,  1,  5,  1,  1,  1, 14,  1,  5,  1,\n",
              "        9,  3,  2,  1,  1,  7,  1,  1,  1, 10,  4,  1,  1,  1,  1,  9,  1,\n",
              "        5,  1, 15,  4,  1,  1,  5,  1,  1,  1,  1,  1,  1,  5,  1,  1,  1,\n",
              "        1,  2,  1,  4,  1,  9,  1, 15,  1,  3,  8,  3,  2,  1,  1,  1,  3,\n",
              "        1,  1,  2,  1,  2,  1,  2,  1,  1,  3,  1,  1,  1,  1,  1,  2,  1,\n",
              "        1,  1,  1,  6,  1,  1,  1,  1,  1,  7,  2,  1,  1,  1,  1,  7,  1,\n",
              "        1,  1,  1,  1,  1,  4,  1,  1,  2,  3,  1,  1,  1,  1,  1,  1, 10,\n",
              "        1,  1,  1,  7,  2,  1,  1,  2,  1,  1, 13,  1,  1,  1,  1,  1,  3,\n",
              "        1,  1,  1,  7,  1,  1,  1,  1,  1,  1,  1, 10,  6,  1,  1,  4,  1,\n",
              "        3,  1,  2,  1,  1,  1,  4,  1,  1,  1,  1,  2,  1,  3,  1,  1,  1,\n",
              "        2,  1,  1,  5,  2,  1,  1,  1,  1,  1,  1, 15,  1,  1,  1,  1,  1,\n",
              "        3,  1,  1,  7,  2,  1,  1,  2,  1,  1,  1,  3,  1,  1,  1,  1,  1,\n",
              "        1,  4,  1,  7,  1,  1,  1,  2,  1,  6,  1,  1,  2,  1,  1,  4,  1,\n",
              "        1,  1,  1,  1,  4,  2,  1,  1,  1,  1,  1,  1,  2,  1,  2,  1,  1,\n",
              "        1,  4,  2,  2,  1,  1,  1,  1,  1,  1,  4,  1,  1,  3,  1,  1,  4,\n",
              "        1,  1,  2,  1,  1,  1,  2,  1,  1,  1,  1,  1,  5,  1,  1,  1,  2,\n",
              "        1,  1,  1,  1,  1,  3,  1,  1,  3,  1,  1,  1,  1,  1,  1,  1,  1,\n",
              "        1,  1,  1,  1], dtype=int32)"
            ]
          },
          "metadata": {},
          "execution_count": 58
        }
      ]
    },
    {
      "cell_type": "code",
      "source": [
        "pred = model.predict(x_test)\n",
        "pred, y_test\n",
        "clf.support_vectors_"
      ],
      "metadata": {
        "colab": {
          "base_uri": "https://localhost:8080/"
        },
        "id": "dny-wLlS4zd9",
        "outputId": "b25f6b35-6ca0-4823-ff64-139ba34aa2a4"
      },
      "execution_count": null,
      "outputs": [
        {
          "output_type": "execute_result",
          "data": {
            "text/plain": [
              "array([[0.683, 0.695],\n",
              "       [0.895, 0.212],\n",
              "       [0.612, 0.212],\n",
              "       ...,\n",
              "       [0.678, 0.678],\n",
              "       [0.651, 0.679],\n",
              "       [0.893, 0.636]])"
            ]
          },
          "metadata": {},
          "execution_count": 59
        }
      ]
    },
    {
      "cell_type": "code",
      "source": [
        "from sklearn.metrics import mean_absolute_percentage_error\n",
        "from sklearn.tree import DecisionTreeRegressor"
      ],
      "metadata": {
        "id": "C2qyNCDw47n3"
      },
      "execution_count": null,
      "outputs": []
    },
    {
      "cell_type": "code",
      "source": [
        "pred = model.predict(x_test)\n",
        "mean_absolute_percentage_error(y_test, pred) "
      ],
      "metadata": {
        "colab": {
          "base_uri": "https://localhost:8080/"
        },
        "id": "hCs_0xHn5ETt",
        "outputId": "bd983f7f-0df4-4a3f-d797-f13de58979a6"
      },
      "execution_count": null,
      "outputs": [
        {
          "output_type": "execute_result",
          "data": {
            "text/plain": [
              "0.3597558707057741"
            ]
          },
          "metadata": {},
          "execution_count": 61
        }
      ]
    },
    {
      "cell_type": "code",
      "source": [
        "modeltree = DecisionTreeRegressor(max_depth=2)\n",
        "modeltree.fit(x_train, y_train) "
      ],
      "metadata": {
        "colab": {
          "base_uri": "https://localhost:8080/"
        },
        "id": "KBhtxB9I5MvO",
        "outputId": "c9c35769-130d-4c32-b35f-474a5325591b"
      },
      "execution_count": null,
      "outputs": [
        {
          "output_type": "execute_result",
          "data": {
            "text/plain": [
              "DecisionTreeRegressor(max_depth=2)"
            ]
          },
          "metadata": {},
          "execution_count": 62
        }
      ]
    },
    {
      "cell_type": "code",
      "source": [
        "predtree = modeltree.predict(x_test)\n",
        "mean_absolute_percentage_error(y_test, predtree)"
      ],
      "metadata": {
        "colab": {
          "base_uri": "https://localhost:8080/"
        },
        "id": "4yxvee7s5l1d",
        "outputId": "87210b23-e945-4c4c-e859-3edbf8c3483b"
      },
      "execution_count": null,
      "outputs": [
        {
          "output_type": "execute_result",
          "data": {
            "text/plain": [
              "0.3021041349941723"
            ]
          },
          "metadata": {},
          "execution_count": 63
        }
      ]
    },
    {
      "cell_type": "code",
      "source": [
        "scoring = {'accuracy': make_scorer(accuracy_score),\n",
        "           'prec': 'precision'}\n",
        "scoring"
      ],
      "metadata": {
        "colab": {
          "base_uri": "https://localhost:8080/"
        },
        "id": "_IfbIt045wDS",
        "outputId": "02b28577-886f-4934-f5ee-24d43f94973a"
      },
      "execution_count": null,
      "outputs": [
        {
          "output_type": "execute_result",
          "data": {
            "text/plain": [
              "{'accuracy': make_scorer(accuracy_score), 'prec': 'precision'}"
            ]
          },
          "metadata": {},
          "execution_count": 64
        }
      ]
    },
    {
      "cell_type": "code",
      "source": [
        "modeltree = DecisionTreeRegressor(max_depth=2)\n",
        "mean_absolute_percentage_error(y_test, predtree)"
      ],
      "metadata": {
        "colab": {
          "base_uri": "https://localhost:8080/"
        },
        "id": "3XjsjZdH51-9",
        "outputId": "3fec1633-98a4-4ec0-a467-152a1884ccd1"
      },
      "execution_count": null,
      "outputs": [
        {
          "output_type": "execute_result",
          "data": {
            "text/plain": [
              "0.3021041349941723"
            ]
          },
          "metadata": {},
          "execution_count": 65
        }
      ]
    },
    {
      "cell_type": "markdown",
      "source": [
        "Развертывание будет в виде веб приложения."
      ],
      "metadata": {
        "id": "QCLWg76_2dju"
      }
    }
  ]
}